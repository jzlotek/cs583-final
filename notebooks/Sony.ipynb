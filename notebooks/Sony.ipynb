{
  "nbformat": 4,
  "nbformat_minor": 0,
  "metadata": {
    "colab": {
      "name": "Sony.ipynb",
      "version": "0.3.2",
      "provenance": [],
      "collapsed_sections": []
    },
    "kernelspec": {
      "name": "python3",
      "display_name": "Python 3"
    },
    "accelerator": "GPU"
  },
  "cells": [
    {
      "cell_type": "markdown",
      "metadata": {
        "id": "kZVOokgnh5HV",
        "colab_type": "text"
      },
      "source": [
        "# Read the README [in the repository](https://github.com/jzlotek/cs583-final) before continuing\n"
      ]
    },
    {
      "cell_type": "code",
      "metadata": {
        "id": "49FnX_pjGfZR",
        "colab_type": "code",
        "outputId": "a26345fb-fcfd-4223-8642-308e06e700f8",
        "colab": {
          "base_uri": "https://localhost:8080/",
          "height": 104
        }
      },
      "source": [
        "#\n",
        "# download_dataset.py\n",
        "#\n",
        "\n",
        "import requests\n",
        "import urllib\n",
        "import os\n",
        "import sys\n",
        "from zipfile import ZipFile\n",
        "\n",
        "OUTDIR='./dataset'\n",
        "\n",
        "def download_file_from_google_drive(id, destination):\n",
        "    URL = \"https://docs.google.com/uc?export=download\"\n",
        "\n",
        "    session = requests.Session()\n",
        "\n",
        "    response = session.get(URL, params = { 'id' : id }, stream = True, timeout=None)\n",
        "    token = get_confirm_token(response)\n",
        "\n",
        "    if token:\n",
        "        params = { 'id' : id, 'confirm' : token }\n",
        "        response = session.get(URL, params = params, stream = True, timeout=None)\n",
        "\n",
        "    save_response_content(response, destination)    \n",
        "\n",
        "def get_confirm_token(response):\n",
        "    for key, value in response.cookies.items():\n",
        "        if key.startswith('download_warning'):\n",
        "            return value\n",
        "\n",
        "    return None\n",
        "\n",
        "def save_response_content(response, destination):\n",
        "    CHUNK_SIZE = 10000\n",
        "    downloaded = 0\n",
        "    total = 26926678016.00 * 1.1 / 100.00\n",
        "    sys.stdout.write(\"\\r0.00% downloaded\")\n",
        "    sys.stdout.flush()\n",
        "\n",
        "    with open(destination, \"wb\") as f:\n",
        "        for chunk in response.iter_content(CHUNK_SIZE):\n",
        "            if chunk: # filter out keep-alive new chunks\n",
        "                f.write(chunk)\n",
        "                downloaded+=len(chunk)\n",
        "                if downloaded % (CHUNK_SIZE*50) == 0:\n",
        "                    sys.stdout.write('\\r%0.2f%% downloaded' % (downloaded/(total)))\n",
        "    sys.stdout.write(\"\\r100.00% downloaded\")\n",
        "\n",
        "# Ensure directory exists\n",
        "if not os.path.exists(OUTDIR):\n",
        "  os.mkdir(OUTDIR)\n",
        "\n",
        "filepath = OUTDIR+'/Sony.zip'\n",
        "# Too much data, download the smaller dataset for now\n",
        "print('Downloading Sony data... (25GB)')\n",
        "download_file_from_google_drive('10kpAcvldtcb9G2ze5hTcF1odzu4V_Zvh', filepath)\n",
        "\n",
        "fileout = OUTDIR+'/Sony'\n",
        "# Always unzip to reset directory\n",
        "print('\\nUnzipping, this will take a while...')\n",
        "print('Usage of storage should be around 117GB')\n",
        "ZipFile(filepath).extractall(path=OUTDIR)\n",
        "\n",
        "    \n",
        "print(\"Data ready in %s\" % (fileout))"
      ],
      "execution_count": 7,
      "outputs": [
        {
          "output_type": "stream",
          "text": [
            "Downloading Sony data... (25GB)\n",
            "100.00% downloaded\n",
            "Unzipping, this will take a while...\n",
            "Usage of storage should be around 117GB\n",
            "Data ready in ./dataset/Sony\n"
          ],
          "name": "stdout"
        }
      ]
    },
    {
      "cell_type": "markdown",
      "metadata": {
        "id": "ZGTHg8HGiYmB",
        "colab_type": "text"
      },
      "source": [
        "\n",
        "\n",
        "```\n",
        "# This is formatted as code\n",
        "```\n",
        "\n",
        "Data is downloaded, time to train the model."
      ]
    },
    {
      "cell_type": "code",
      "metadata": {
        "id": "6xNYvty9ixaX",
        "colab_type": "code",
        "colab": {
          "base_uri": "https://localhost:8080/",
          "height": 121
        },
        "outputId": "d217afc9-e502-430e-d8d0-900a6be51d5a"
      },
      "source": [
        "!pip install rawpy\n",
        "!pip install imageio"
      ],
      "execution_count": 10,
      "outputs": [
        {
          "output_type": "stream",
          "text": [
            "Requirement already satisfied: rawpy in /usr/local/lib/python3.6/dist-packages (0.13.1)\n",
            "Requirement already satisfied: numpy in /usr/local/lib/python3.6/dist-packages (from rawpy) (1.16.4)\n",
            "Requirement already satisfied: imageio in /usr/local/lib/python3.6/dist-packages (2.4.1)\n",
            "Requirement already satisfied: numpy in /usr/local/lib/python3.6/dist-packages (from imageio) (1.16.4)\n",
            "Requirement already satisfied: pillow in /usr/local/lib/python3.6/dist-packages (from imageio) (4.3.0)\n",
            "Requirement already satisfied: olefile in /usr/local/lib/python3.6/dist-packages (from pillow->imageio) (0.46)\n"
          ],
          "name": "stdout"
        }
      ]
    },
    {
      "cell_type": "code",
      "metadata": {
        "id": "C8WcFBc9iXbm",
        "colab_type": "code",
        "colab": {
          "base_uri": "https://localhost:8080/",
          "height": 2551
        },
        "outputId": "6960b12b-0817-439a-8bbe-d5048b2488aa"
      },
      "source": [
        "#\n",
        "# train_Sony.py\n",
        "#\n",
        "\n",
        "from __future__ import division\n",
        "import os, time, scipy.io\n",
        "import tensorflow as tf\n",
        "import tensorflow.contrib.slim as slim\n",
        "import numpy as np\n",
        "import imageio\n",
        "import rawpy\n",
        "import glob\n",
        "import sys\n",
        "\n",
        "# Constant\n",
        "input_dir = './dataset/Sony/short/'\n",
        "gt_dir = './dataset/Sony/long/'\n",
        "checkpoint_dir = './result_Sony/'\n",
        "result_dir = './result_Sony/'\n",
        "\n",
        "# get train IDs\n",
        "#\n",
        "# Gets all the filenames that match the pattern \n",
        "# Chops off the first 5 characters to get the file's \"ID\"\n",
        "train_fns = glob.glob(gt_dir + '0*.ARW') \n",
        "train_ids = [int(os.path.basename(train_fn)[0:5]) for train_fn in train_fns]\n",
        "\n",
        "ps = 512  # patch size for training\n",
        "save_freq = 500\n",
        "\n",
        "DEBUG = 0\n",
        "if DEBUG == 1:\n",
        "    save_freq = 2\n",
        "    train_ids = train_ids[0:5]\n",
        "\n",
        "# Activation function\n",
        "def lrelu(x):\n",
        "    return tf.maximum(x * 0.2, x)\n",
        "\n",
        "\n",
        "def upsample_and_concat(x1, x2, output_channels, in_channels):\n",
        "    pool_size = 2\n",
        "    deconv_filter = tf.Variable(tf.truncated_normal([pool_size, pool_size, output_channels, in_channels], stddev=0.02))\n",
        "    deconv = tf.nn.conv2d_transpose(x1, deconv_filter, tf.shape(x2), strides=[1, pool_size, pool_size, 1])\n",
        "\n",
        "    deconv_output = tf.concat([deconv, x2], 3)\n",
        "    deconv_output.set_shape([None, None, None, output_channels * 2])\n",
        "\n",
        "    return deconv_output\n",
        "\n",
        "# Defines the structure of the model and handles running and input through it\n",
        "def network(input):\n",
        "    conv1 = slim.conv2d(input, 32, [3, 3], rate=1, activation_fn=lrelu, scope='g_conv1_1')\n",
        "    conv1 = slim.conv2d(conv1, 32, [3, 3], rate=1, activation_fn=lrelu, scope='g_conv1_2')\n",
        "    pool1 = slim.max_pool2d(conv1, [2, 2], padding='SAME')\n",
        "\n",
        "    conv2 = slim.conv2d(pool1, 64, [3, 3], rate=1, activation_fn=lrelu, scope='g_conv2_1')\n",
        "    conv2 = slim.conv2d(conv2, 64, [3, 3], rate=1, activation_fn=lrelu, scope='g_conv2_2')\n",
        "    pool2 = slim.max_pool2d(conv2, [2, 2], padding='SAME')\n",
        "\n",
        "    conv3 = slim.conv2d(pool2, 128, [3, 3], rate=1, activation_fn=lrelu, scope='g_conv3_1')\n",
        "    conv3 = slim.conv2d(conv3, 128, [3, 3], rate=1, activation_fn=lrelu, scope='g_conv3_2')\n",
        "    pool3 = slim.max_pool2d(conv3, [2, 2], padding='SAME')\n",
        "\n",
        "    conv4 = slim.conv2d(pool3, 256, [3, 3], rate=1, activation_fn=lrelu, scope='g_conv4_1')\n",
        "    conv4 = slim.conv2d(conv4, 256, [3, 3], rate=1, activation_fn=lrelu, scope='g_conv4_2')\n",
        "    pool4 = slim.max_pool2d(conv4, [2, 2], padding='SAME')\n",
        "\n",
        "    conv5 = slim.conv2d(pool4, 512, [3, 3], rate=1, activation_fn=lrelu, scope='g_conv5_1')\n",
        "    conv5 = slim.conv2d(conv5, 512, [3, 3], rate=1, activation_fn=lrelu, scope='g_conv5_2')\n",
        "\n",
        "    up6 = upsample_and_concat(conv5, conv4, 256, 512)\n",
        "    conv6 = slim.conv2d(up6, 256, [3, 3], rate=1, activation_fn=lrelu, scope='g_conv6_1')\n",
        "    conv6 = slim.conv2d(conv6, 256, [3, 3], rate=1, activation_fn=lrelu, scope='g_conv6_2')\n",
        "\n",
        "    up7 = upsample_and_concat(conv6, conv3, 128, 256)\n",
        "    conv7 = slim.conv2d(up7, 128, [3, 3], rate=1, activation_fn=lrelu, scope='g_conv7_1')\n",
        "    conv7 = slim.conv2d(conv7, 128, [3, 3], rate=1, activation_fn=lrelu, scope='g_conv7_2')\n",
        "\n",
        "    up8 = upsample_and_concat(conv7, conv2, 64, 128)\n",
        "    conv8 = slim.conv2d(up8, 64, [3, 3], rate=1, activation_fn=lrelu, scope='g_conv8_1')\n",
        "    conv8 = slim.conv2d(conv8, 64, [3, 3], rate=1, activation_fn=lrelu, scope='g_conv8_2')\n",
        "\n",
        "    up9 = upsample_and_concat(conv8, conv1, 32, 64)\n",
        "    conv9 = slim.conv2d(up9, 32, [3, 3], rate=1, activation_fn=lrelu, scope='g_conv9_1')\n",
        "    conv9 = slim.conv2d(conv9, 32, [3, 3], rate=1, activation_fn=lrelu, scope='g_conv9_2')\n",
        "\n",
        "    conv10 = slim.conv2d(conv9, 12, [1, 1], rate=1, activation_fn=None, scope='g_conv10')\n",
        "    out = tf.depth_to_space(conv10, 2)\n",
        "    return out\n",
        "\n",
        "\n",
        "def pack_raw(raw):\n",
        "    # pack Bayer image to 4 channels\n",
        "    im = raw.raw_image_visible.astype(np.float32)\n",
        "    im = np.maximum(im - 512, 0) / (16383 - 512)  # subtract the black level\n",
        "\n",
        "    im = np.expand_dims(im, axis=2)\n",
        "    img_shape = im.shape\n",
        "    H = img_shape[0]\n",
        "    W = img_shape[1]\n",
        "\n",
        "    out = np.concatenate((im[0:H:2, 0:W:2, :],\n",
        "                          im[0:H:2, 1:W:2, :],\n",
        "                          im[1:H:2, 1:W:2, :],\n",
        "                          im[1:H:2, 0:W:2, :]), axis=2)\n",
        "    return out\n",
        "\n",
        "# Reset current tf globals\n",
        "tf.reset_default_graph()\n",
        "\n",
        "sess = tf.Session()\n",
        "in_image = tf.placeholder(tf.float32, [None, None, None, 4])\n",
        "gt_image = tf.placeholder(tf.float32, [None, None, None, 3])\n",
        "out_image = network(in_image)\n",
        "\n",
        "G_loss = tf.reduce_mean(tf.abs(out_image - gt_image))\n",
        "\n",
        "t_vars = tf.trainable_variables()\n",
        "lr = tf.placeholder(tf.float32)\n",
        "G_opt = tf.train.AdamOptimizer(learning_rate=lr).minimize(G_loss)\n",
        "\n",
        "saver = tf.train.Saver()\n",
        "sess.run(tf.global_variables_initializer())\n",
        "ckpt = tf.train.get_checkpoint_state(checkpoint_dir)\n",
        "if ckpt:\n",
        "    print('loaded ' + ckpt.model_checkpoint_path)\n",
        "    saver.restore(sess, ckpt.model_checkpoint_path)\n",
        "\n",
        "g_loss = np.zeros((5000, 1))\n",
        "\n",
        "allfolders = glob.glob('./result/*0')\n",
        "lastepoch = 0\n",
        "for folder in allfolders:\n",
        "    lastepoch = np.maximum(lastepoch, int(folder[-4:]))\n",
        "\n",
        "# Batching\n",
        "total_epochs = 11 # 4001 was used in the paper, but takes a while\n",
        "current_batch = 0\n",
        "batch_size = 25 # Uses < 8gb of RAM\n",
        "shuffled_ids = np.random.permutation(len(train_ids))\n",
        "\n",
        "while (current_batch+1) * batch_size - 1 < len(shuffled_ids) :\n",
        "    batch_ids = shuffled_ids[current_batch*batch_size:(current_batch+1)*batch_size-1]\n",
        "    current_batch += 1\n",
        "    learning_rate = 1e-4\n",
        "   \n",
        "    # Hold batch in memory\n",
        "    gt_images = [None] * 6000\n",
        "    input_images = {}\n",
        "    input_images['300'] = [None] * len(train_ids)\n",
        "    input_images['250'] = [None] * len(train_ids)\n",
        "    input_images['100'] = [None] * len(train_ids)\n",
        "\n",
        "    for epoch in range(lastepoch, total_epochs): \n",
        "        if os.path.isdir(\"result/%04d\" % epoch):\n",
        "            continue\n",
        "        cnt = 0\n",
        "        if epoch > (total_epochs // 2): # Decrease learning rate halfway through\n",
        "            learning_rate = 1e-5      \n",
        "\n",
        "        for ind in np.random.permutation(batch_ids):\n",
        "            # get the path from image id\n",
        "            train_id = train_ids[ind]\n",
        "            in_files = glob.glob(input_dir + '%05d_00*.ARW' % train_id)\n",
        "            in_path = None\n",
        "            if len(in_files) <= 1:\n",
        "                in_path = in_files[0]\n",
        "            else :\n",
        "                in_path = in_files[np.random.randint(0, len(in_files) - 1)]\n",
        "            in_fn = os.path.basename(in_path)\n",
        "\n",
        "            gt_files = glob.glob(gt_dir + '%05d_00*.ARW' % train_id)\n",
        "            gt_path = gt_files[0]\n",
        "            gt_fn = os.path.basename(gt_path)\n",
        "            in_exposure = float(in_fn[9:-5])\n",
        "            gt_exposure = float(gt_fn[9:-5])\n",
        "            ratio = min(gt_exposure / in_exposure, 300)\n",
        "\n",
        "            st = time.time()\n",
        "            cnt += 1\n",
        "\n",
        "            if input_images[str(ratio)[0:3]][ind] is None:\n",
        "                raw = rawpy.imread(in_path)\n",
        "                input_images[str(ratio)[0:3]][ind] = \\\n",
        "                  np.expand_dims(pack_raw(raw), axis=0) * ratio\n",
        "\n",
        "                gt_raw = rawpy.imread(gt_path)\n",
        "                im = gt_raw.postprocess(use_camera_wb=True, half_size=False, no_auto_bright=True, output_bps=16)\n",
        "                gt_images[ind] = np.expand_dims(np.float32(im / 65535.0), axis=0)\n",
        "\n",
        "            # crop\n",
        "            H = input_images[str(ratio)[0:3]][ind].shape[1]\n",
        "            W = input_images[str(ratio)[0:3]][ind].shape[2]\n",
        "\n",
        "            xx = np.random.randint(0, W - ps)\n",
        "            yy = np.random.randint(0, H - ps)\n",
        "            input_patch = input_images[str(ratio)[0:3]][ind][:, yy:yy + ps, xx:xx + ps, :]\n",
        "            gt_patch = gt_images[ind][:, yy * 2:yy * 2 + ps * 2, xx * 2:xx * 2 + ps * 2, :]\n",
        "        \n",
        "            if np.random.randint(2, size=1)[0] == 1:  # random flip\n",
        "                input_patch = np.flip(input_patch, axis=1)\n",
        "                gt_patch = np.flip(gt_patch, axis=1)\n",
        "            if np.random.randint(2, size=1)[0] == 1:\n",
        "                input_patch = np.flip(input_patch, axis=2)\n",
        "                gt_patch = np.flip(gt_patch, axis=2)\n",
        "            if np.random.randint(2, size=1)[0] == 1:  # random transpose\n",
        "                input_patch = np.transpose(input_patch, (0, 2, 1, 3))\n",
        "                gt_patch = np.transpose(gt_patch, (0, 2, 1, 3))\n",
        "\n",
        "            input_patch = np.minimum(input_patch, 1.0)\n",
        "\n",
        "            _, G_current, output = sess.run([G_opt, G_loss, out_image],\n",
        "                                        feed_dict={in_image: input_patch, gt_image: gt_patch, lr: learning_rate})\n",
        "            output = np.minimum(np.maximum(output, 0), 1)\n",
        "            g_loss[ind] = G_current\n",
        "\n",
        "            sys.stdout.write(\"\\rBatch=%-4d Epoch=%-4d Count=%-4d Loss=%-6.3f Time=%-6.3f\" % (current_batch-1, epoch, cnt, np.mean(g_loss[np.where(g_loss)]), time.time() - st))\n",
        "\n",
        "            if epoch % save_freq == 0:\n",
        "                if not os.path.isdir(result_dir + '%04d' % epoch):\n",
        "                    os.makedirs(result_dir + '%04d' % epoch)\n",
        "\n",
        "                temp = np.concatenate((gt_patch[0, :, :, :], output[0, :, :, :]), axis=1)\n",
        "                temp *= 255\n",
        "                temp = scipy.misc.bytescale(temp, cmin=0, cmax=255, high=255, low=0)\n",
        "\n",
        "                imageio.imwrite(result_dir + '%04d/%05d_00_train_%d.jpg' % (epoch, train_id, ratio), np.array(temp, dtype=np.uint8))\n",
        "\n",
        "    saver.save(sess, checkpoint_dir + 'model.ckpt')\n"
      ],
      "execution_count": 13,
      "outputs": [
        {
          "output_type": "stream",
          "text": [
            "WARNING:root:Lossy conversion from float32 to uint8. Range [0.0, 180.17898559570312]. Convert image to uint8 prior to saving to suppress this warning.\n"
          ],
          "name": "stderr"
        },
        {
          "output_type": "stream",
          "text": [
            "\rBatch=0    Epoch=0    Count=1    Loss=0.272  Time=3.071 "
          ],
          "name": "stdout"
        },
        {
          "output_type": "stream",
          "text": [
            "WARNING:root:Lossy conversion from float32 to uint8. Range [0.0, 255.0]. Convert image to uint8 prior to saving to suppress this warning.\n"
          ],
          "name": "stderr"
        },
        {
          "output_type": "stream",
          "text": [
            "\rBatch=0    Epoch=0    Count=2    Loss=0.325  Time=2.372 "
          ],
          "name": "stdout"
        },
        {
          "output_type": "stream",
          "text": [
            "WARNING:root:Lossy conversion from float32 to uint8. Range [0.0, 237.96498107910156]. Convert image to uint8 prior to saving to suppress this warning.\n"
          ],
          "name": "stderr"
        },
        {
          "output_type": "stream",
          "text": [
            "\rBatch=0    Epoch=0    Count=3    Loss=0.277  Time=2.863 "
          ],
          "name": "stdout"
        },
        {
          "output_type": "stream",
          "text": [
            "WARNING:root:Lossy conversion from float32 to uint8. Range [0.0, 255.0]. Convert image to uint8 prior to saving to suppress this warning.\n"
          ],
          "name": "stderr"
        },
        {
          "output_type": "stream",
          "text": [
            "\rBatch=0    Epoch=0    Count=4    Loss=0.273  Time=2.772 "
          ],
          "name": "stdout"
        },
        {
          "output_type": "stream",
          "text": [
            "WARNING:root:Lossy conversion from float32 to uint8. Range [0.0, 255.0]. Convert image to uint8 prior to saving to suppress this warning.\n"
          ],
          "name": "stderr"
        },
        {
          "output_type": "stream",
          "text": [
            "\rBatch=0    Epoch=0    Count=5    Loss=0.321  Time=2.756 "
          ],
          "name": "stdout"
        },
        {
          "output_type": "stream",
          "text": [
            "WARNING:root:Lossy conversion from float32 to uint8. Range [0.0, 255.0]. Convert image to uint8 prior to saving to suppress this warning.\n"
          ],
          "name": "stderr"
        },
        {
          "output_type": "stream",
          "text": [
            "\rBatch=0    Epoch=0    Count=6    Loss=0.314  Time=2.467 "
          ],
          "name": "stdout"
        },
        {
          "output_type": "stream",
          "text": [
            "WARNING:root:Lossy conversion from float32 to uint8. Range [0.0, 185.5291748046875]. Convert image to uint8 prior to saving to suppress this warning.\n"
          ],
          "name": "stderr"
        },
        {
          "output_type": "stream",
          "text": [
            "\rBatch=0    Epoch=0    Count=7    Loss=0.292  Time=2.430 "
          ],
          "name": "stdout"
        },
        {
          "output_type": "stream",
          "text": [
            "WARNING:root:Lossy conversion from float32 to uint8. Range [0.0, 255.0]. Convert image to uint8 prior to saving to suppress this warning.\n"
          ],
          "name": "stderr"
        },
        {
          "output_type": "stream",
          "text": [
            "\rBatch=0    Epoch=0    Count=8    Loss=0.270  Time=2.424 "
          ],
          "name": "stdout"
        },
        {
          "output_type": "stream",
          "text": [
            "WARNING:root:Lossy conversion from float32 to uint8. Range [0.0, 149.1984405517578]. Convert image to uint8 prior to saving to suppress this warning.\n"
          ],
          "name": "stderr"
        },
        {
          "output_type": "stream",
          "text": [
            "\rBatch=0    Epoch=0    Count=9    Loss=0.262  Time=2.505 "
          ],
          "name": "stdout"
        },
        {
          "output_type": "stream",
          "text": [
            "WARNING:root:Lossy conversion from float32 to uint8. Range [0.0, 255.0]. Convert image to uint8 prior to saving to suppress this warning.\n"
          ],
          "name": "stderr"
        },
        {
          "output_type": "stream",
          "text": [
            "\rBatch=0    Epoch=0    Count=10   Loss=0.252  Time=2.390 "
          ],
          "name": "stdout"
        },
        {
          "output_type": "stream",
          "text": [
            "WARNING:root:Lossy conversion from float32 to uint8. Range [0.0, 255.0]. Convert image to uint8 prior to saving to suppress this warning.\n"
          ],
          "name": "stderr"
        },
        {
          "output_type": "stream",
          "text": [
            "\rBatch=0    Epoch=0    Count=11   Loss=0.239  Time=2.482 "
          ],
          "name": "stdout"
        },
        {
          "output_type": "stream",
          "text": [
            "WARNING:root:Lossy conversion from float32 to uint8. Range [0.0, 182.8560333251953]. Convert image to uint8 prior to saving to suppress this warning.\n"
          ],
          "name": "stderr"
        },
        {
          "output_type": "stream",
          "text": [
            "\rBatch=0    Epoch=0    Count=12   Loss=0.237  Time=2.464 "
          ],
          "name": "stdout"
        },
        {
          "output_type": "stream",
          "text": [
            "WARNING:root:Lossy conversion from float32 to uint8. Range [0.0, 255.0]. Convert image to uint8 prior to saving to suppress this warning.\n"
          ],
          "name": "stderr"
        },
        {
          "output_type": "stream",
          "text": [
            "\rBatch=0    Epoch=0    Count=13   Loss=0.252  Time=2.484 "
          ],
          "name": "stdout"
        },
        {
          "output_type": "stream",
          "text": [
            "WARNING:root:Lossy conversion from float32 to uint8. Range [0.0, 255.0]. Convert image to uint8 prior to saving to suppress this warning.\n"
          ],
          "name": "stderr"
        },
        {
          "output_type": "stream",
          "text": [
            "\rBatch=0    Epoch=0    Count=14   Loss=0.241  Time=2.592 "
          ],
          "name": "stdout"
        },
        {
          "output_type": "stream",
          "text": [
            "WARNING:root:Lossy conversion from float32 to uint8. Range [0.0, 255.0]. Convert image to uint8 prior to saving to suppress this warning.\n"
          ],
          "name": "stderr"
        },
        {
          "output_type": "stream",
          "text": [
            "\rBatch=0    Epoch=0    Count=15   Loss=0.236  Time=2.469 "
          ],
          "name": "stdout"
        },
        {
          "output_type": "stream",
          "text": [
            "WARNING:root:Lossy conversion from float32 to uint8. Range [0.0, 255.0]. Convert image to uint8 prior to saving to suppress this warning.\n"
          ],
          "name": "stderr"
        },
        {
          "output_type": "stream",
          "text": [
            "\rBatch=0    Epoch=0    Count=16   Loss=0.237  Time=2.551 "
          ],
          "name": "stdout"
        },
        {
          "output_type": "stream",
          "text": [
            "WARNING:root:Lossy conversion from float32 to uint8. Range [0.0, 255.0]. Convert image to uint8 prior to saving to suppress this warning.\n"
          ],
          "name": "stderr"
        },
        {
          "output_type": "stream",
          "text": [
            "\rBatch=0    Epoch=0    Count=17   Loss=0.230  Time=2.435 "
          ],
          "name": "stdout"
        },
        {
          "output_type": "stream",
          "text": [
            "WARNING:root:Lossy conversion from float32 to uint8. Range [0.0, 255.0]. Convert image to uint8 prior to saving to suppress this warning.\n"
          ],
          "name": "stderr"
        },
        {
          "output_type": "stream",
          "text": [
            "\rBatch=0    Epoch=0    Count=18   Loss=0.231  Time=2.469 "
          ],
          "name": "stdout"
        },
        {
          "output_type": "stream",
          "text": [
            "WARNING:root:Lossy conversion from float32 to uint8. Range [0.0, 255.0]. Convert image to uint8 prior to saving to suppress this warning.\n"
          ],
          "name": "stderr"
        },
        {
          "output_type": "stream",
          "text": [
            "\rBatch=0    Epoch=0    Count=19   Loss=0.228  Time=2.406 "
          ],
          "name": "stdout"
        },
        {
          "output_type": "stream",
          "text": [
            "WARNING:root:Lossy conversion from float32 to uint8. Range [0.0, 171.0933837890625]. Convert image to uint8 prior to saving to suppress this warning.\n"
          ],
          "name": "stderr"
        },
        {
          "output_type": "stream",
          "text": [
            "\rBatch=0    Epoch=0    Count=20   Loss=0.221  Time=2.525 "
          ],
          "name": "stdout"
        },
        {
          "output_type": "stream",
          "text": [
            "WARNING:root:Lossy conversion from float32 to uint8. Range [0.0, 253.39688110351562]. Convert image to uint8 prior to saving to suppress this warning.\n"
          ],
          "name": "stderr"
        },
        {
          "output_type": "stream",
          "text": [
            "\rBatch=0    Epoch=0    Count=21   Loss=0.220  Time=2.455 "
          ],
          "name": "stdout"
        },
        {
          "output_type": "stream",
          "text": [
            "WARNING:root:Lossy conversion from float32 to uint8. Range [0.0, 255.0]. Convert image to uint8 prior to saving to suppress this warning.\n"
          ],
          "name": "stderr"
        },
        {
          "output_type": "stream",
          "text": [
            "\rBatch=0    Epoch=0    Count=22   Loss=0.230  Time=2.373 "
          ],
          "name": "stdout"
        },
        {
          "output_type": "stream",
          "text": [
            "WARNING:root:Lossy conversion from float32 to uint8. Range [0.0, 70.2490234375]. Convert image to uint8 prior to saving to suppress this warning.\n"
          ],
          "name": "stderr"
        },
        {
          "output_type": "stream",
          "text": [
            "\rBatch=0    Epoch=0    Count=23   Loss=0.225  Time=2.422 "
          ],
          "name": "stdout"
        },
        {
          "output_type": "stream",
          "text": [
            "WARNING:root:Lossy conversion from float32 to uint8. Range [0.0, 255.0]. Convert image to uint8 prior to saving to suppress this warning.\n"
          ],
          "name": "stderr"
        },
        {
          "output_type": "stream",
          "text": [
            "Batch=0    Epoch=10   Count=24   Loss=0.076  Time=0.137 "
          ],
          "name": "stdout"
        },
        {
          "output_type": "stream",
          "text": [
            "WARNING:root:Lossy conversion from float32 to uint8. Range [0.0, 255.0]. Convert image to uint8 prior to saving to suppress this warning.\n"
          ],
          "name": "stderr"
        },
        {
          "output_type": "stream",
          "text": [
            "\rBatch=1    Epoch=0    Count=1    Loss=0.078  Time=2.418 "
          ],
          "name": "stdout"
        },
        {
          "output_type": "stream",
          "text": [
            "WARNING:root:Lossy conversion from float32 to uint8. Range [0.0, 255.0]. Convert image to uint8 prior to saving to suppress this warning.\n"
          ],
          "name": "stderr"
        },
        {
          "output_type": "stream",
          "text": [
            "\rBatch=1    Epoch=0    Count=2    Loss=0.077  Time=2.364 "
          ],
          "name": "stdout"
        },
        {
          "output_type": "stream",
          "text": [
            "WARNING:root:Lossy conversion from float32 to uint8. Range [0.0, 144.07781982421875]. Convert image to uint8 prior to saving to suppress this warning.\n"
          ],
          "name": "stderr"
        },
        {
          "output_type": "stream",
          "text": [
            "\rBatch=1    Epoch=0    Count=3    Loss=0.079  Time=2.559 "
          ],
          "name": "stdout"
        },
        {
          "output_type": "stream",
          "text": [
            "WARNING:root:Lossy conversion from float32 to uint8. Range [0.0, 255.0]. Convert image to uint8 prior to saving to suppress this warning.\n"
          ],
          "name": "stderr"
        },
        {
          "output_type": "stream",
          "text": [
            "\rBatch=1    Epoch=0    Count=4    Loss=0.078  Time=2.388 "
          ],
          "name": "stdout"
        },
        {
          "output_type": "stream",
          "text": [
            "WARNING:root:Lossy conversion from float32 to uint8. Range [0.0, 199.1361846923828]. Convert image to uint8 prior to saving to suppress this warning.\n"
          ],
          "name": "stderr"
        },
        {
          "output_type": "stream",
          "text": [
            "\rBatch=1    Epoch=0    Count=5    Loss=0.078  Time=2.365 "
          ],
          "name": "stdout"
        },
        {
          "output_type": "stream",
          "text": [
            "WARNING:root:Lossy conversion from float32 to uint8. Range [0.0, 255.0]. Convert image to uint8 prior to saving to suppress this warning.\n"
          ],
          "name": "stderr"
        },
        {
          "output_type": "stream",
          "text": [
            "\rBatch=1    Epoch=0    Count=6    Loss=0.079  Time=2.354 "
          ],
          "name": "stdout"
        },
        {
          "output_type": "stream",
          "text": [
            "WARNING:root:Lossy conversion from float32 to uint8. Range [0.0, 255.0]. Convert image to uint8 prior to saving to suppress this warning.\n"
          ],
          "name": "stderr"
        },
        {
          "output_type": "stream",
          "text": [
            "\rBatch=1    Epoch=0    Count=7    Loss=0.079  Time=2.422 "
          ],
          "name": "stdout"
        },
        {
          "output_type": "stream",
          "text": [
            "WARNING:root:Lossy conversion from float32 to uint8. Range [0.0, 255.0]. Convert image to uint8 prior to saving to suppress this warning.\n"
          ],
          "name": "stderr"
        },
        {
          "output_type": "stream",
          "text": [
            "\rBatch=1    Epoch=0    Count=8    Loss=0.080  Time=2.765 "
          ],
          "name": "stdout"
        },
        {
          "output_type": "stream",
          "text": [
            "WARNING:root:Lossy conversion from float32 to uint8. Range [0.0, 255.0]. Convert image to uint8 prior to saving to suppress this warning.\n"
          ],
          "name": "stderr"
        },
        {
          "output_type": "stream",
          "text": [
            "\rBatch=1    Epoch=0    Count=9    Loss=0.079  Time=2.678 "
          ],
          "name": "stdout"
        },
        {
          "output_type": "stream",
          "text": [
            "WARNING:root:Lossy conversion from float32 to uint8. Range [0.0, 255.0]. Convert image to uint8 prior to saving to suppress this warning.\n"
          ],
          "name": "stderr"
        },
        {
          "output_type": "stream",
          "text": [
            "\rBatch=1    Epoch=0    Count=10   Loss=0.082  Time=2.735 "
          ],
          "name": "stdout"
        },
        {
          "output_type": "stream",
          "text": [
            "WARNING:root:Lossy conversion from float32 to uint8. Range [0.0, 255.0]. Convert image to uint8 prior to saving to suppress this warning.\n"
          ],
          "name": "stderr"
        },
        {
          "output_type": "stream",
          "text": [
            "\rBatch=1    Epoch=0    Count=11   Loss=0.082  Time=2.377 "
          ],
          "name": "stdout"
        },
        {
          "output_type": "stream",
          "text": [
            "WARNING:root:Lossy conversion from float32 to uint8. Range [0.0, 237.062255859375]. Convert image to uint8 prior to saving to suppress this warning.\n"
          ],
          "name": "stderr"
        },
        {
          "output_type": "stream",
          "text": [
            "\rBatch=1    Epoch=0    Count=12   Loss=0.082  Time=2.373 "
          ],
          "name": "stdout"
        },
        {
          "output_type": "stream",
          "text": [
            "WARNING:root:Lossy conversion from float32 to uint8. Range [0.0, 203.12451171875]. Convert image to uint8 prior to saving to suppress this warning.\n"
          ],
          "name": "stderr"
        },
        {
          "output_type": "stream",
          "text": [
            "\rBatch=1    Epoch=0    Count=13   Loss=0.082  Time=2.420 "
          ],
          "name": "stdout"
        },
        {
          "output_type": "stream",
          "text": [
            "WARNING:root:Lossy conversion from float32 to uint8. Range [0.0, 173.77259826660156]. Convert image to uint8 prior to saving to suppress this warning.\n"
          ],
          "name": "stderr"
        },
        {
          "output_type": "stream",
          "text": [
            "\rBatch=1    Epoch=0    Count=14   Loss=0.082  Time=2.340 "
          ],
          "name": "stdout"
        },
        {
          "output_type": "stream",
          "text": [
            "WARNING:root:Lossy conversion from float32 to uint8. Range [0.0, 203.07781982421875]. Convert image to uint8 prior to saving to suppress this warning.\n"
          ],
          "name": "stderr"
        },
        {
          "output_type": "stream",
          "text": [
            "\rBatch=1    Epoch=0    Count=15   Loss=0.081  Time=2.470 "
          ],
          "name": "stdout"
        },
        {
          "output_type": "stream",
          "text": [
            "WARNING:root:Lossy conversion from float32 to uint8. Range [0.0, 189.04669189453125]. Convert image to uint8 prior to saving to suppress this warning.\n"
          ],
          "name": "stderr"
        },
        {
          "output_type": "stream",
          "text": [
            "\rBatch=1    Epoch=0    Count=16   Loss=0.081  Time=2.373 "
          ],
          "name": "stdout"
        },
        {
          "output_type": "stream",
          "text": [
            "WARNING:root:Lossy conversion from float32 to uint8. Range [0.0, 184.46302795410156]. Convert image to uint8 prior to saving to suppress this warning.\n"
          ],
          "name": "stderr"
        },
        {
          "output_type": "stream",
          "text": [
            "\rBatch=1    Epoch=0    Count=17   Loss=0.080  Time=2.894 "
          ],
          "name": "stdout"
        },
        {
          "output_type": "stream",
          "text": [
            "WARNING:root:Lossy conversion from float32 to uint8. Range [0.0, 255.0]. Convert image to uint8 prior to saving to suppress this warning.\n"
          ],
          "name": "stderr"
        },
        {
          "output_type": "stream",
          "text": [
            "\rBatch=1    Epoch=0    Count=18   Loss=0.080  Time=2.702 "
          ],
          "name": "stdout"
        },
        {
          "output_type": "stream",
          "text": [
            "WARNING:root:Lossy conversion from float32 to uint8. Range [0.0, 255.0]. Convert image to uint8 prior to saving to suppress this warning.\n"
          ],
          "name": "stderr"
        },
        {
          "output_type": "stream",
          "text": [
            "\rBatch=1    Epoch=0    Count=19   Loss=0.080  Time=2.535 "
          ],
          "name": "stdout"
        },
        {
          "output_type": "stream",
          "text": [
            "WARNING:root:Lossy conversion from float32 to uint8. Range [0.0, 184.39231872558594]. Convert image to uint8 prior to saving to suppress this warning.\n"
          ],
          "name": "stderr"
        },
        {
          "output_type": "stream",
          "text": [
            "\rBatch=1    Epoch=0    Count=20   Loss=0.079  Time=2.380 "
          ],
          "name": "stdout"
        },
        {
          "output_type": "stream",
          "text": [
            "WARNING:root:Lossy conversion from float32 to uint8. Range [0.0, 81.73929595947266]. Convert image to uint8 prior to saving to suppress this warning.\n"
          ],
          "name": "stderr"
        },
        {
          "output_type": "stream",
          "text": [
            "\rBatch=1    Epoch=0    Count=21   Loss=0.079  Time=2.417 "
          ],
          "name": "stdout"
        },
        {
          "output_type": "stream",
          "text": [
            "WARNING:root:Lossy conversion from float32 to uint8. Range [0.0, 255.0]. Convert image to uint8 prior to saving to suppress this warning.\n"
          ],
          "name": "stderr"
        },
        {
          "output_type": "stream",
          "text": [
            "\rBatch=1    Epoch=0    Count=22   Loss=0.081  Time=2.397 "
          ],
          "name": "stdout"
        },
        {
          "output_type": "stream",
          "text": [
            "WARNING:root:Lossy conversion from float32 to uint8. Range [0.0, 229.7751007080078]. Convert image to uint8 prior to saving to suppress this warning.\n"
          ],
          "name": "stderr"
        },
        {
          "output_type": "stream",
          "text": [
            "\rBatch=1    Epoch=0    Count=23   Loss=0.081  Time=2.652 "
          ],
          "name": "stdout"
        },
        {
          "output_type": "stream",
          "text": [
            "WARNING:root:Lossy conversion from float32 to uint8. Range [0.0, 220.50582885742188]. Convert image to uint8 prior to saving to suppress this warning.\n"
          ],
          "name": "stderr"
        },
        {
          "output_type": "stream",
          "text": [
            "Batch=1    Epoch=10   Count=24   Loss=0.073  Time=0.140 "
          ],
          "name": "stdout"
        },
        {
          "output_type": "stream",
          "text": [
            "WARNING:root:Lossy conversion from float32 to uint8. Range [0.0, 255.0]. Convert image to uint8 prior to saving to suppress this warning.\n"
          ],
          "name": "stderr"
        },
        {
          "output_type": "stream",
          "text": [
            "\rBatch=2    Epoch=0    Count=1    Loss=0.072  Time=2.489 "
          ],
          "name": "stdout"
        },
        {
          "output_type": "stream",
          "text": [
            "WARNING:root:Lossy conversion from float32 to uint8. Range [0.0, 255.0]. Convert image to uint8 prior to saving to suppress this warning.\n"
          ],
          "name": "stderr"
        },
        {
          "output_type": "stream",
          "text": [
            "\rBatch=2    Epoch=0    Count=2    Loss=0.074  Time=2.430 "
          ],
          "name": "stdout"
        },
        {
          "output_type": "stream",
          "text": [
            "WARNING:root:Lossy conversion from float32 to uint8. Range [0.0, 171.75485229492188]. Convert image to uint8 prior to saving to suppress this warning.\n"
          ],
          "name": "stderr"
        },
        {
          "output_type": "stream",
          "text": [
            "\rBatch=2    Epoch=0    Count=3    Loss=0.073  Time=2.392 "
          ],
          "name": "stdout"
        },
        {
          "output_type": "stream",
          "text": [
            "WARNING:root:Lossy conversion from float32 to uint8. Range [0.0, 176.30360412597656]. Convert image to uint8 prior to saving to suppress this warning.\n"
          ],
          "name": "stderr"
        },
        {
          "output_type": "stream",
          "text": [
            "\rBatch=2    Epoch=0    Count=4    Loss=0.073  Time=2.343 "
          ],
          "name": "stdout"
        },
        {
          "output_type": "stream",
          "text": [
            "WARNING:root:Lossy conversion from float32 to uint8. Range [0.0, 155.02334594726562]. Convert image to uint8 prior to saving to suppress this warning.\n"
          ],
          "name": "stderr"
        },
        {
          "output_type": "stream",
          "text": [
            "\rBatch=2    Epoch=0    Count=5    Loss=0.073  Time=2.347 "
          ],
          "name": "stdout"
        },
        {
          "output_type": "stream",
          "text": [
            "WARNING:root:Lossy conversion from float32 to uint8. Range [0.0, 255.0]. Convert image to uint8 prior to saving to suppress this warning.\n"
          ],
          "name": "stderr"
        },
        {
          "output_type": "stream",
          "text": [
            "\rBatch=2    Epoch=0    Count=6    Loss=0.073  Time=2.418 "
          ],
          "name": "stdout"
        },
        {
          "output_type": "stream",
          "text": [
            "WARNING:root:Lossy conversion from float32 to uint8. Range [0.0, 203.51953125]. Convert image to uint8 prior to saving to suppress this warning.\n"
          ],
          "name": "stderr"
        },
        {
          "output_type": "stream",
          "text": [
            "\rBatch=2    Epoch=0    Count=7    Loss=0.072  Time=2.408 "
          ],
          "name": "stdout"
        },
        {
          "output_type": "stream",
          "text": [
            "WARNING:root:Lossy conversion from float32 to uint8. Range [0.0, 255.0]. Convert image to uint8 prior to saving to suppress this warning.\n"
          ],
          "name": "stderr"
        },
        {
          "output_type": "stream",
          "text": [
            "\rBatch=2    Epoch=0    Count=8    Loss=0.072  Time=2.373 "
          ],
          "name": "stdout"
        },
        {
          "output_type": "stream",
          "text": [
            "WARNING:root:Lossy conversion from float32 to uint8. Range [0.0, 255.0]. Convert image to uint8 prior to saving to suppress this warning.\n"
          ],
          "name": "stderr"
        },
        {
          "output_type": "stream",
          "text": [
            "\rBatch=2    Epoch=0    Count=9    Loss=0.072  Time=2.342 "
          ],
          "name": "stdout"
        },
        {
          "output_type": "stream",
          "text": [
            "WARNING:root:Lossy conversion from float32 to uint8. Range [0.0, 196.85992431640625]. Convert image to uint8 prior to saving to suppress this warning.\n"
          ],
          "name": "stderr"
        },
        {
          "output_type": "stream",
          "text": [
            "\rBatch=2    Epoch=0    Count=10   Loss=0.072  Time=2.367 "
          ],
          "name": "stdout"
        },
        {
          "output_type": "stream",
          "text": [
            "WARNING:root:Lossy conversion from float32 to uint8. Range [0.0, 121.37743377685547]. Convert image to uint8 prior to saving to suppress this warning.\n"
          ],
          "name": "stderr"
        },
        {
          "output_type": "stream",
          "text": [
            "\rBatch=2    Epoch=0    Count=11   Loss=0.072  Time=2.382 "
          ],
          "name": "stdout"
        },
        {
          "output_type": "stream",
          "text": [
            "WARNING:root:Lossy conversion from float32 to uint8. Range [0.0, 255.0]. Convert image to uint8 prior to saving to suppress this warning.\n"
          ],
          "name": "stderr"
        },
        {
          "output_type": "stream",
          "text": [
            "\rBatch=2    Epoch=0    Count=12   Loss=0.072  Time=2.376 "
          ],
          "name": "stdout"
        },
        {
          "output_type": "stream",
          "text": [
            "WARNING:root:Lossy conversion from float32 to uint8. Range [0.0, 255.0]. Convert image to uint8 prior to saving to suppress this warning.\n"
          ],
          "name": "stderr"
        },
        {
          "output_type": "stream",
          "text": [
            "\rBatch=2    Epoch=0    Count=13   Loss=0.072  Time=2.502 "
          ],
          "name": "stdout"
        },
        {
          "output_type": "stream",
          "text": [
            "WARNING:root:Lossy conversion from float32 to uint8. Range [0.0, 201.02723693847656]. Convert image to uint8 prior to saving to suppress this warning.\n"
          ],
          "name": "stderr"
        },
        {
          "output_type": "stream",
          "text": [
            "\rBatch=2    Epoch=0    Count=14   Loss=0.072  Time=2.707 "
          ],
          "name": "stdout"
        },
        {
          "output_type": "stream",
          "text": [
            "WARNING:root:Lossy conversion from float32 to uint8. Range [0.0, 255.0]. Convert image to uint8 prior to saving to suppress this warning.\n"
          ],
          "name": "stderr"
        },
        {
          "output_type": "stream",
          "text": [
            "\rBatch=2    Epoch=0    Count=15   Loss=0.073  Time=2.753 "
          ],
          "name": "stdout"
        },
        {
          "output_type": "stream",
          "text": [
            "WARNING:root:Lossy conversion from float32 to uint8. Range [0.0, 255.0]. Convert image to uint8 prior to saving to suppress this warning.\n"
          ],
          "name": "stderr"
        },
        {
          "output_type": "stream",
          "text": [
            "\rBatch=2    Epoch=0    Count=16   Loss=0.073  Time=2.722 "
          ],
          "name": "stdout"
        },
        {
          "output_type": "stream",
          "text": [
            "WARNING:root:Lossy conversion from float32 to uint8. Range [0.0, 255.0]. Convert image to uint8 prior to saving to suppress this warning.\n"
          ],
          "name": "stderr"
        },
        {
          "output_type": "stream",
          "text": [
            "\rBatch=2    Epoch=0    Count=17   Loss=0.073  Time=2.384 "
          ],
          "name": "stdout"
        },
        {
          "output_type": "stream",
          "text": [
            "WARNING:root:Lossy conversion from float32 to uint8. Range [0.0, 255.0]. Convert image to uint8 prior to saving to suppress this warning.\n"
          ],
          "name": "stderr"
        },
        {
          "output_type": "stream",
          "text": [
            "\rBatch=2    Epoch=0    Count=18   Loss=0.073  Time=2.344 "
          ],
          "name": "stdout"
        },
        {
          "output_type": "stream",
          "text": [
            "WARNING:root:Lossy conversion from float32 to uint8. Range [0.0, 255.0]. Convert image to uint8 prior to saving to suppress this warning.\n"
          ],
          "name": "stderr"
        },
        {
          "output_type": "stream",
          "text": [
            "\rBatch=2    Epoch=0    Count=19   Loss=0.074  Time=2.424 "
          ],
          "name": "stdout"
        },
        {
          "output_type": "stream",
          "text": [
            "WARNING:root:Lossy conversion from float32 to uint8. Range [0.0, 255.0]. Convert image to uint8 prior to saving to suppress this warning.\n"
          ],
          "name": "stderr"
        },
        {
          "output_type": "stream",
          "text": [
            "\rBatch=2    Epoch=0    Count=20   Loss=0.075  Time=2.324 "
          ],
          "name": "stdout"
        },
        {
          "output_type": "stream",
          "text": [
            "WARNING:root:Lossy conversion from float32 to uint8. Range [0.0, 159.81710815429688]. Convert image to uint8 prior to saving to suppress this warning.\n"
          ],
          "name": "stderr"
        },
        {
          "output_type": "stream",
          "text": [
            "\rBatch=2    Epoch=0    Count=21   Loss=0.075  Time=2.420 "
          ],
          "name": "stdout"
        },
        {
          "output_type": "stream",
          "text": [
            "WARNING:root:Lossy conversion from float32 to uint8. Range [0.0, 128.94326782226562]. Convert image to uint8 prior to saving to suppress this warning.\n"
          ],
          "name": "stderr"
        },
        {
          "output_type": "stream",
          "text": [
            "\rBatch=2    Epoch=0    Count=22   Loss=0.075  Time=2.392 "
          ],
          "name": "stdout"
        },
        {
          "output_type": "stream",
          "text": [
            "WARNING:root:Lossy conversion from float32 to uint8. Range [0.0, 255.0]. Convert image to uint8 prior to saving to suppress this warning.\n"
          ],
          "name": "stderr"
        },
        {
          "output_type": "stream",
          "text": [
            "\rBatch=2    Epoch=0    Count=23   Loss=0.075  Time=2.481 "
          ],
          "name": "stdout"
        },
        {
          "output_type": "stream",
          "text": [
            "WARNING:root:Lossy conversion from float32 to uint8. Range [0.0, 255.0]. Convert image to uint8 prior to saving to suppress this warning.\n"
          ],
          "name": "stderr"
        },
        {
          "output_type": "stream",
          "text": [
            "Batch=2    Epoch=10   Count=24   Loss=0.070  Time=0.133 "
          ],
          "name": "stdout"
        },
        {
          "output_type": "stream",
          "text": [
            "WARNING:root:Lossy conversion from float32 to uint8. Range [0.0, 166.22325134277344]. Convert image to uint8 prior to saving to suppress this warning.\n"
          ],
          "name": "stderr"
        },
        {
          "output_type": "stream",
          "text": [
            "\rBatch=3    Epoch=0    Count=1    Loss=0.069  Time=2.409 "
          ],
          "name": "stdout"
        },
        {
          "output_type": "stream",
          "text": [
            "WARNING:root:Lossy conversion from float32 to uint8. Range [0.0, 160.28404235839844]. Convert image to uint8 prior to saving to suppress this warning.\n"
          ],
          "name": "stderr"
        },
        {
          "output_type": "stream",
          "text": [
            "\rBatch=3    Epoch=0    Count=2    Loss=0.069  Time=2.543 "
          ],
          "name": "stdout"
        },
        {
          "output_type": "stream",
          "text": [
            "WARNING:root:Lossy conversion from float32 to uint8. Range [0.0, 175.01568603515625]. Convert image to uint8 prior to saving to suppress this warning.\n"
          ],
          "name": "stderr"
        },
        {
          "output_type": "stream",
          "text": [
            "\rBatch=3    Epoch=0    Count=3    Loss=0.069  Time=2.725 "
          ],
          "name": "stdout"
        },
        {
          "output_type": "stream",
          "text": [
            "WARNING:root:Lossy conversion from float32 to uint8. Range [0.0, 255.0]. Convert image to uint8 prior to saving to suppress this warning.\n"
          ],
          "name": "stderr"
        },
        {
          "output_type": "stream",
          "text": [
            "\rBatch=3    Epoch=0    Count=4    Loss=0.069  Time=2.720 "
          ],
          "name": "stdout"
        },
        {
          "output_type": "stream",
          "text": [
            "WARNING:root:Lossy conversion from float32 to uint8. Range [0.0, 230.07781982421875]. Convert image to uint8 prior to saving to suppress this warning.\n"
          ],
          "name": "stderr"
        },
        {
          "output_type": "stream",
          "text": [
            "\rBatch=3    Epoch=0    Count=5    Loss=0.069  Time=2.690 "
          ],
          "name": "stdout"
        },
        {
          "output_type": "stream",
          "text": [
            "WARNING:root:Lossy conversion from float32 to uint8. Range [0.0, 246.7704315185547]. Convert image to uint8 prior to saving to suppress this warning.\n"
          ],
          "name": "stderr"
        },
        {
          "output_type": "stream",
          "text": [
            "\rBatch=3    Epoch=0    Count=6    Loss=0.069  Time=2.367 "
          ],
          "name": "stdout"
        },
        {
          "output_type": "stream",
          "text": [
            "WARNING:root:Lossy conversion from float32 to uint8. Range [0.0, 255.0]. Convert image to uint8 prior to saving to suppress this warning.\n"
          ],
          "name": "stderr"
        },
        {
          "output_type": "stream",
          "text": [
            "\rBatch=3    Epoch=0    Count=7    Loss=0.068  Time=2.330 "
          ],
          "name": "stdout"
        },
        {
          "output_type": "stream",
          "text": [
            "WARNING:root:Lossy conversion from float32 to uint8. Range [0.0, 169.03890991210938]. Convert image to uint8 prior to saving to suppress this warning.\n"
          ],
          "name": "stderr"
        },
        {
          "output_type": "stream",
          "text": [
            "\rBatch=3    Epoch=0    Count=8    Loss=0.068  Time=2.353 "
          ],
          "name": "stdout"
        },
        {
          "output_type": "stream",
          "text": [
            "WARNING:root:Lossy conversion from float32 to uint8. Range [0.0, 205.39688110351562]. Convert image to uint8 prior to saving to suppress this warning.\n"
          ],
          "name": "stderr"
        },
        {
          "output_type": "stream",
          "text": [
            "\rBatch=3    Epoch=0    Count=9    Loss=0.068  Time=2.353 "
          ],
          "name": "stdout"
        },
        {
          "output_type": "stream",
          "text": [
            "WARNING:root:Lossy conversion from float32 to uint8. Range [0.0, 255.0]. Convert image to uint8 prior to saving to suppress this warning.\n"
          ],
          "name": "stderr"
        },
        {
          "output_type": "stream",
          "text": [
            "\rBatch=3    Epoch=0    Count=10   Loss=0.067  Time=2.271 "
          ],
          "name": "stdout"
        },
        {
          "output_type": "stream",
          "text": [
            "WARNING:root:Lossy conversion from float32 to uint8. Range [0.0, 255.0]. Convert image to uint8 prior to saving to suppress this warning.\n"
          ],
          "name": "stderr"
        },
        {
          "output_type": "stream",
          "text": [
            "\rBatch=3    Epoch=0    Count=11   Loss=0.067  Time=2.359 "
          ],
          "name": "stdout"
        },
        {
          "output_type": "stream",
          "text": [
            "WARNING:root:Lossy conversion from float32 to uint8. Range [0.0, 180.6084747314453]. Convert image to uint8 prior to saving to suppress this warning.\n"
          ],
          "name": "stderr"
        },
        {
          "output_type": "stream",
          "text": [
            "\rBatch=3    Epoch=0    Count=12   Loss=0.067  Time=2.349 "
          ],
          "name": "stdout"
        },
        {
          "output_type": "stream",
          "text": [
            "WARNING:root:Lossy conversion from float32 to uint8. Range [0.0, 79.89493560791016]. Convert image to uint8 prior to saving to suppress this warning.\n"
          ],
          "name": "stderr"
        },
        {
          "output_type": "stream",
          "text": [
            "\rBatch=3    Epoch=0    Count=13   Loss=0.066  Time=2.409 "
          ],
          "name": "stdout"
        },
        {
          "output_type": "stream",
          "text": [
            "WARNING:root:Lossy conversion from float32 to uint8. Range [0.0, 206.48924255371094]. Convert image to uint8 prior to saving to suppress this warning.\n"
          ],
          "name": "stderr"
        },
        {
          "output_type": "stream",
          "text": [
            "\rBatch=3    Epoch=0    Count=14   Loss=0.066  Time=2.340 "
          ],
          "name": "stdout"
        },
        {
          "output_type": "stream",
          "text": [
            "WARNING:root:Lossy conversion from float32 to uint8. Range [0.0, 252.173828125]. Convert image to uint8 prior to saving to suppress this warning.\n"
          ],
          "name": "stderr"
        },
        {
          "output_type": "stream",
          "text": [
            "\rBatch=3    Epoch=0    Count=15   Loss=0.066  Time=2.428 "
          ],
          "name": "stdout"
        },
        {
          "output_type": "stream",
          "text": [
            "WARNING:root:Lossy conversion from float32 to uint8. Range [0.0, 255.0]. Convert image to uint8 prior to saving to suppress this warning.\n"
          ],
          "name": "stderr"
        },
        {
          "output_type": "stream",
          "text": [
            "\rBatch=3    Epoch=0    Count=16   Loss=0.066  Time=2.316 "
          ],
          "name": "stdout"
        },
        {
          "output_type": "stream",
          "text": [
            "WARNING:root:Lossy conversion from float32 to uint8. Range [0.0, 241.91050720214844]. Convert image to uint8 prior to saving to suppress this warning.\n"
          ],
          "name": "stderr"
        },
        {
          "output_type": "stream",
          "text": [
            "\rBatch=3    Epoch=0    Count=17   Loss=0.066  Time=2.476 "
          ],
          "name": "stdout"
        },
        {
          "output_type": "stream",
          "text": [
            "WARNING:root:Lossy conversion from float32 to uint8. Range [0.0, 255.0]. Convert image to uint8 prior to saving to suppress this warning.\n"
          ],
          "name": "stderr"
        },
        {
          "output_type": "stream",
          "text": [
            "\rBatch=3    Epoch=0    Count=18   Loss=0.066  Time=2.369 "
          ],
          "name": "stdout"
        },
        {
          "output_type": "stream",
          "text": [
            "WARNING:root:Lossy conversion from float32 to uint8. Range [0.0, 255.0]. Convert image to uint8 prior to saving to suppress this warning.\n"
          ],
          "name": "stderr"
        },
        {
          "output_type": "stream",
          "text": [
            "\rBatch=3    Epoch=0    Count=19   Loss=0.067  Time=2.446 "
          ],
          "name": "stdout"
        },
        {
          "output_type": "stream",
          "text": [
            "WARNING:root:Lossy conversion from float32 to uint8. Range [0.0, 144.02334594726562]. Convert image to uint8 prior to saving to suppress this warning.\n"
          ],
          "name": "stderr"
        },
        {
          "output_type": "stream",
          "text": [
            "\rBatch=3    Epoch=0    Count=20   Loss=0.067  Time=2.322 "
          ],
          "name": "stdout"
        },
        {
          "output_type": "stream",
          "text": [
            "WARNING:root:Lossy conversion from float32 to uint8. Range [0.0, 120.47859954833984]. Convert image to uint8 prior to saving to suppress this warning.\n"
          ],
          "name": "stderr"
        },
        {
          "output_type": "stream",
          "text": [
            "\rBatch=3    Epoch=0    Count=21   Loss=0.067  Time=2.430 "
          ],
          "name": "stdout"
        },
        {
          "output_type": "stream",
          "text": [
            "WARNING:root:Lossy conversion from float32 to uint8. Range [0.0, 255.0]. Convert image to uint8 prior to saving to suppress this warning.\n"
          ],
          "name": "stderr"
        },
        {
          "output_type": "stream",
          "text": [
            "\rBatch=3    Epoch=0    Count=22   Loss=0.067  Time=2.315 "
          ],
          "name": "stdout"
        },
        {
          "output_type": "stream",
          "text": [
            "WARNING:root:Lossy conversion from float32 to uint8. Range [0.0, 255.0]. Convert image to uint8 prior to saving to suppress this warning.\n"
          ],
          "name": "stderr"
        },
        {
          "output_type": "stream",
          "text": [
            "\rBatch=3    Epoch=0    Count=23   Loss=0.067  Time=2.438 "
          ],
          "name": "stdout"
        },
        {
          "output_type": "stream",
          "text": [
            "WARNING:root:Lossy conversion from float32 to uint8. Range [0.0, 149.52005004882812]. Convert image to uint8 prior to saving to suppress this warning.\n"
          ],
          "name": "stderr"
        },
        {
          "output_type": "stream",
          "text": [
            "Batch=3    Epoch=10   Count=24   Loss=0.066  Time=0.131 "
          ],
          "name": "stdout"
        },
        {
          "output_type": "stream",
          "text": [
            "WARNING:root:Lossy conversion from float32 to uint8. Range [0.0, 240.64981079101562]. Convert image to uint8 prior to saving to suppress this warning.\n"
          ],
          "name": "stderr"
        },
        {
          "output_type": "stream",
          "text": [
            "\rBatch=4    Epoch=0    Count=1    Loss=0.066  Time=2.387 "
          ],
          "name": "stdout"
        },
        {
          "output_type": "stream",
          "text": [
            "WARNING:root:Lossy conversion from float32 to uint8. Range [0.0, 219.60769653320312]. Convert image to uint8 prior to saving to suppress this warning.\n"
          ],
          "name": "stderr"
        },
        {
          "output_type": "stream",
          "text": [
            "\rBatch=4    Epoch=0    Count=2    Loss=0.066  Time=2.344 "
          ],
          "name": "stdout"
        },
        {
          "output_type": "stream",
          "text": [
            "WARNING:root:Lossy conversion from float32 to uint8. Range [0.0, 255.0]. Convert image to uint8 prior to saving to suppress this warning.\n"
          ],
          "name": "stderr"
        },
        {
          "output_type": "stream",
          "text": [
            "\rBatch=4    Epoch=0    Count=3    Loss=0.066  Time=2.676 "
          ],
          "name": "stdout"
        },
        {
          "output_type": "stream",
          "text": [
            "WARNING:root:Lossy conversion from float32 to uint8. Range [0.0, 190.8326873779297]. Convert image to uint8 prior to saving to suppress this warning.\n"
          ],
          "name": "stderr"
        },
        {
          "output_type": "stream",
          "text": [
            "\rBatch=4    Epoch=0    Count=4    Loss=0.066  Time=2.726 "
          ],
          "name": "stdout"
        },
        {
          "output_type": "stream",
          "text": [
            "WARNING:root:Lossy conversion from float32 to uint8. Range [0.0, 255.0]. Convert image to uint8 prior to saving to suppress this warning.\n"
          ],
          "name": "stderr"
        },
        {
          "output_type": "stream",
          "text": [
            "\rBatch=4    Epoch=0    Count=5    Loss=0.066  Time=2.719 "
          ],
          "name": "stdout"
        },
        {
          "output_type": "stream",
          "text": [
            "WARNING:root:Lossy conversion from float32 to uint8. Range [0.0, 255.0]. Convert image to uint8 prior to saving to suppress this warning.\n"
          ],
          "name": "stderr"
        },
        {
          "output_type": "stream",
          "text": [
            "\rBatch=4    Epoch=0    Count=6    Loss=0.066  Time=2.483 "
          ],
          "name": "stdout"
        },
        {
          "output_type": "stream",
          "text": [
            "WARNING:root:Lossy conversion from float32 to uint8. Range [0.0, 255.0]. Convert image to uint8 prior to saving to suppress this warning.\n"
          ],
          "name": "stderr"
        },
        {
          "output_type": "stream",
          "text": [
            "\rBatch=4    Epoch=0    Count=7    Loss=0.066  Time=2.321 "
          ],
          "name": "stdout"
        },
        {
          "output_type": "stream",
          "text": [
            "WARNING:root:Lossy conversion from float32 to uint8. Range [0.0, 214.79347229003906]. Convert image to uint8 prior to saving to suppress this warning.\n"
          ],
          "name": "stderr"
        },
        {
          "output_type": "stream",
          "text": [
            "\rBatch=4    Epoch=0    Count=8    Loss=0.066  Time=2.369 "
          ],
          "name": "stdout"
        },
        {
          "output_type": "stream",
          "text": [
            "WARNING:root:Lossy conversion from float32 to uint8. Range [0.0, 220.3598175048828]. Convert image to uint8 prior to saving to suppress this warning.\n"
          ],
          "name": "stderr"
        },
        {
          "output_type": "stream",
          "text": [
            "\rBatch=4    Epoch=0    Count=9    Loss=0.066  Time=2.414 "
          ],
          "name": "stdout"
        },
        {
          "output_type": "stream",
          "text": [
            "WARNING:root:Lossy conversion from float32 to uint8. Range [0.0, 196.3540802001953]. Convert image to uint8 prior to saving to suppress this warning.\n"
          ],
          "name": "stderr"
        },
        {
          "output_type": "stream",
          "text": [
            "\rBatch=4    Epoch=0    Count=10   Loss=0.066  Time=2.602 "
          ],
          "name": "stdout"
        },
        {
          "output_type": "stream",
          "text": [
            "WARNING:root:Lossy conversion from float32 to uint8. Range [0.0, 255.0]. Convert image to uint8 prior to saving to suppress this warning.\n"
          ],
          "name": "stderr"
        },
        {
          "output_type": "stream",
          "text": [
            "\rBatch=4    Epoch=0    Count=11   Loss=0.066  Time=2.717 "
          ],
          "name": "stdout"
        },
        {
          "output_type": "stream",
          "text": [
            "WARNING:root:Lossy conversion from float32 to uint8. Range [0.0, 255.0]. Convert image to uint8 prior to saving to suppress this warning.\n"
          ],
          "name": "stderr"
        },
        {
          "output_type": "stream",
          "text": [
            "\rBatch=4    Epoch=0    Count=12   Loss=0.066  Time=2.310 "
          ],
          "name": "stdout"
        },
        {
          "output_type": "stream",
          "text": [
            "WARNING:root:Lossy conversion from float32 to uint8. Range [0.0, 157.81710815429688]. Convert image to uint8 prior to saving to suppress this warning.\n"
          ],
          "name": "stderr"
        },
        {
          "output_type": "stream",
          "text": [
            "\rBatch=4    Epoch=0    Count=13   Loss=0.066  Time=2.398 "
          ],
          "name": "stdout"
        },
        {
          "output_type": "stream",
          "text": [
            "WARNING:root:Lossy conversion from float32 to uint8. Range [0.0, 81.1706314086914]. Convert image to uint8 prior to saving to suppress this warning.\n"
          ],
          "name": "stderr"
        },
        {
          "output_type": "stream",
          "text": [
            "\rBatch=4    Epoch=0    Count=14   Loss=0.065  Time=2.452 "
          ],
          "name": "stdout"
        },
        {
          "output_type": "stream",
          "text": [
            "WARNING:root:Lossy conversion from float32 to uint8. Range [0.0, 255.0]. Convert image to uint8 prior to saving to suppress this warning.\n"
          ],
          "name": "stderr"
        },
        {
          "output_type": "stream",
          "text": [
            "\rBatch=4    Epoch=0    Count=15   Loss=0.065  Time=2.347 "
          ],
          "name": "stdout"
        },
        {
          "output_type": "stream",
          "text": [
            "WARNING:root:Lossy conversion from float32 to uint8. Range [0.0, 255.0]. Convert image to uint8 prior to saving to suppress this warning.\n"
          ],
          "name": "stderr"
        },
        {
          "output_type": "stream",
          "text": [
            "\rBatch=4    Epoch=0    Count=16   Loss=0.065  Time=2.446 "
          ],
          "name": "stdout"
        },
        {
          "output_type": "stream",
          "text": [
            "WARNING:root:Lossy conversion from float32 to uint8. Range [0.0, 209.71163940429688]. Convert image to uint8 prior to saving to suppress this warning.\n"
          ],
          "name": "stderr"
        },
        {
          "output_type": "stream",
          "text": [
            "\rBatch=4    Epoch=0    Count=17   Loss=0.065  Time=2.241 "
          ],
          "name": "stdout"
        },
        {
          "output_type": "stream",
          "text": [
            "WARNING:root:Lossy conversion from float32 to uint8. Range [0.0, 103.6153335571289]. Convert image to uint8 prior to saving to suppress this warning.\n"
          ],
          "name": "stderr"
        },
        {
          "output_type": "stream",
          "text": [
            "\rBatch=4    Epoch=0    Count=18   Loss=0.065  Time=2.375 "
          ],
          "name": "stdout"
        },
        {
          "output_type": "stream",
          "text": [
            "WARNING:root:Lossy conversion from float32 to uint8. Range [0.0, 255.0]. Convert image to uint8 prior to saving to suppress this warning.\n"
          ],
          "name": "stderr"
        },
        {
          "output_type": "stream",
          "text": [
            "\rBatch=4    Epoch=0    Count=19   Loss=0.065  Time=2.434 "
          ],
          "name": "stdout"
        },
        {
          "output_type": "stream",
          "text": [
            "WARNING:root:Lossy conversion from float32 to uint8. Range [0.0, 193.45913696289062]. Convert image to uint8 prior to saving to suppress this warning.\n"
          ],
          "name": "stderr"
        },
        {
          "output_type": "stream",
          "text": [
            "\rBatch=4    Epoch=0    Count=20   Loss=0.066  Time=2.221 "
          ],
          "name": "stdout"
        },
        {
          "output_type": "stream",
          "text": [
            "WARNING:root:Lossy conversion from float32 to uint8. Range [0.0, 255.0]. Convert image to uint8 prior to saving to suppress this warning.\n"
          ],
          "name": "stderr"
        },
        {
          "output_type": "stream",
          "text": [
            "\rBatch=4    Epoch=0    Count=21   Loss=0.066  Time=2.441 "
          ],
          "name": "stdout"
        },
        {
          "output_type": "stream",
          "text": [
            "WARNING:root:Lossy conversion from float32 to uint8. Range [0.0, 255.0]. Convert image to uint8 prior to saving to suppress this warning.\n"
          ],
          "name": "stderr"
        },
        {
          "output_type": "stream",
          "text": [
            "\rBatch=4    Epoch=0    Count=22   Loss=0.066  Time=2.296 "
          ],
          "name": "stdout"
        },
        {
          "output_type": "stream",
          "text": [
            "WARNING:root:Lossy conversion from float32 to uint8. Range [0.0, 152.15174865722656]. Convert image to uint8 prior to saving to suppress this warning.\n"
          ],
          "name": "stderr"
        },
        {
          "output_type": "stream",
          "text": [
            "\rBatch=4    Epoch=0    Count=23   Loss=0.066  Time=2.774 "
          ],
          "name": "stdout"
        },
        {
          "output_type": "stream",
          "text": [
            "WARNING:root:Lossy conversion from float32 to uint8. Range [0.0, 255.0]. Convert image to uint8 prior to saving to suppress this warning.\n"
          ],
          "name": "stderr"
        },
        {
          "output_type": "stream",
          "text": [
            "Batch=4    Epoch=10   Count=24   Loss=0.063  Time=0.123 "
          ],
          "name": "stdout"
        },
        {
          "output_type": "stream",
          "text": [
            "WARNING:root:Lossy conversion from float32 to uint8. Range [0.0, 255.0]. Convert image to uint8 prior to saving to suppress this warning.\n"
          ],
          "name": "stderr"
        },
        {
          "output_type": "stream",
          "text": [
            "\rBatch=5    Epoch=0    Count=1    Loss=0.063  Time=2.381 "
          ],
          "name": "stdout"
        },
        {
          "output_type": "stream",
          "text": [
            "WARNING:root:Lossy conversion from float32 to uint8. Range [0.0, 255.0]. Convert image to uint8 prior to saving to suppress this warning.\n"
          ],
          "name": "stderr"
        },
        {
          "output_type": "stream",
          "text": [
            "\rBatch=5    Epoch=0    Count=2    Loss=0.063  Time=2.327 "
          ],
          "name": "stdout"
        },
        {
          "output_type": "stream",
          "text": [
            "WARNING:root:Lossy conversion from float32 to uint8. Range [0.0, 255.0]. Convert image to uint8 prior to saving to suppress this warning.\n"
          ],
          "name": "stderr"
        },
        {
          "output_type": "stream",
          "text": [
            "\rBatch=5    Epoch=0    Count=3    Loss=0.063  Time=2.431 "
          ],
          "name": "stdout"
        },
        {
          "output_type": "stream",
          "text": [
            "WARNING:root:Lossy conversion from float32 to uint8. Range [0.0, 255.0]. Convert image to uint8 prior to saving to suppress this warning.\n"
          ],
          "name": "stderr"
        },
        {
          "output_type": "stream",
          "text": [
            "\rBatch=5    Epoch=0    Count=4    Loss=0.064  Time=2.311 "
          ],
          "name": "stdout"
        },
        {
          "output_type": "stream",
          "text": [
            "WARNING:root:Lossy conversion from float32 to uint8. Range [0.0, 143.7470703125]. Convert image to uint8 prior to saving to suppress this warning.\n"
          ],
          "name": "stderr"
        },
        {
          "output_type": "stream",
          "text": [
            "\rBatch=5    Epoch=0    Count=5    Loss=0.064  Time=2.378 "
          ],
          "name": "stdout"
        },
        {
          "output_type": "stream",
          "text": [
            "WARNING:root:Lossy conversion from float32 to uint8. Range [0.0, 255.0]. Convert image to uint8 prior to saving to suppress this warning.\n"
          ],
          "name": "stderr"
        },
        {
          "output_type": "stream",
          "text": [
            "\rBatch=5    Epoch=0    Count=6    Loss=0.065  Time=2.363 "
          ],
          "name": "stdout"
        },
        {
          "output_type": "stream",
          "text": [
            "WARNING:root:Lossy conversion from float32 to uint8. Range [0.0, 195.40077209472656]. Convert image to uint8 prior to saving to suppress this warning.\n"
          ],
          "name": "stderr"
        },
        {
          "output_type": "stream",
          "text": [
            "\rBatch=5    Epoch=0    Count=7    Loss=0.064  Time=2.293 "
          ],
          "name": "stdout"
        },
        {
          "output_type": "stream",
          "text": [
            "WARNING:root:Lossy conversion from float32 to uint8. Range [0.0, 255.0]. Convert image to uint8 prior to saving to suppress this warning.\n"
          ],
          "name": "stderr"
        },
        {
          "output_type": "stream",
          "text": [
            "\rBatch=5    Epoch=0    Count=8    Loss=0.065  Time=2.348 "
          ],
          "name": "stdout"
        },
        {
          "output_type": "stream",
          "text": [
            "WARNING:root:Lossy conversion from float32 to uint8. Range [0.0, 94.30349731445312]. Convert image to uint8 prior to saving to suppress this warning.\n"
          ],
          "name": "stderr"
        },
        {
          "output_type": "stream",
          "text": [
            "\rBatch=5    Epoch=0    Count=9    Loss=0.065  Time=2.331 "
          ],
          "name": "stdout"
        },
        {
          "output_type": "stream",
          "text": [
            "WARNING:root:Lossy conversion from float32 to uint8. Range [0.0, 255.0]. Convert image to uint8 prior to saving to suppress this warning.\n"
          ],
          "name": "stderr"
        },
        {
          "output_type": "stream",
          "text": [
            "\rBatch=5    Epoch=0    Count=10   Loss=0.065  Time=2.325 "
          ],
          "name": "stdout"
        },
        {
          "output_type": "stream",
          "text": [
            "WARNING:root:Lossy conversion from float32 to uint8. Range [0.0, 82.251953125]. Convert image to uint8 prior to saving to suppress this warning.\n"
          ],
          "name": "stderr"
        },
        {
          "output_type": "stream",
          "text": [
            "\rBatch=5    Epoch=0    Count=11   Loss=0.065  Time=2.376 "
          ],
          "name": "stdout"
        },
        {
          "output_type": "stream",
          "text": [
            "WARNING:root:Lossy conversion from float32 to uint8. Range [0.0, 216.12062072753906]. Convert image to uint8 prior to saving to suppress this warning.\n"
          ],
          "name": "stderr"
        },
        {
          "output_type": "stream",
          "text": [
            "\rBatch=5    Epoch=0    Count=12   Loss=0.066  Time=2.475 "
          ],
          "name": "stdout"
        },
        {
          "output_type": "stream",
          "text": [
            "WARNING:root:Lossy conversion from float32 to uint8. Range [0.0, 255.0]. Convert image to uint8 prior to saving to suppress this warning.\n"
          ],
          "name": "stderr"
        },
        {
          "output_type": "stream",
          "text": [
            "\rBatch=5    Epoch=0    Count=13   Loss=0.065  Time=2.692 "
          ],
          "name": "stdout"
        },
        {
          "output_type": "stream",
          "text": [
            "WARNING:root:Lossy conversion from float32 to uint8. Range [0.0, 255.0]. Convert image to uint8 prior to saving to suppress this warning.\n"
          ],
          "name": "stderr"
        },
        {
          "output_type": "stream",
          "text": [
            "\rBatch=5    Epoch=0    Count=14   Loss=0.065  Time=2.685 "
          ],
          "name": "stdout"
        },
        {
          "output_type": "stream",
          "text": [
            "WARNING:root:Lossy conversion from float32 to uint8. Range [0.0, 98.65369415283203]. Convert image to uint8 prior to saving to suppress this warning.\n"
          ],
          "name": "stderr"
        },
        {
          "output_type": "stream",
          "text": [
            "\rBatch=5    Epoch=0    Count=15   Loss=0.065  Time=2.749 "
          ],
          "name": "stdout"
        },
        {
          "output_type": "stream",
          "text": [
            "WARNING:root:Lossy conversion from float32 to uint8. Range [0.0, 255.0]. Convert image to uint8 prior to saving to suppress this warning.\n"
          ],
          "name": "stderr"
        },
        {
          "output_type": "stream",
          "text": [
            "\rBatch=5    Epoch=0    Count=16   Loss=0.065  Time=2.247 "
          ],
          "name": "stdout"
        },
        {
          "output_type": "stream",
          "text": [
            "WARNING:root:Lossy conversion from float32 to uint8. Range [0.0, 255.0]. Convert image to uint8 prior to saving to suppress this warning.\n"
          ],
          "name": "stderr"
        },
        {
          "output_type": "stream",
          "text": [
            "\rBatch=5    Epoch=0    Count=17   Loss=0.065  Time=2.422 "
          ],
          "name": "stdout"
        },
        {
          "output_type": "stream",
          "text": [
            "WARNING:root:Lossy conversion from float32 to uint8. Range [0.0, 105.84825134277344]. Convert image to uint8 prior to saving to suppress this warning.\n"
          ],
          "name": "stderr"
        },
        {
          "output_type": "stream",
          "text": [
            "\rBatch=5    Epoch=0    Count=18   Loss=0.065  Time=2.346 "
          ],
          "name": "stdout"
        },
        {
          "output_type": "stream",
          "text": [
            "WARNING:root:Lossy conversion from float32 to uint8. Range [0.0, 163.74317932128906]. Convert image to uint8 prior to saving to suppress this warning.\n"
          ],
          "name": "stderr"
        },
        {
          "output_type": "stream",
          "text": [
            "\rBatch=5    Epoch=0    Count=19   Loss=0.065  Time=2.386 "
          ],
          "name": "stdout"
        },
        {
          "output_type": "stream",
          "text": [
            "WARNING:root:Lossy conversion from float32 to uint8. Range [0.0, 255.0]. Convert image to uint8 prior to saving to suppress this warning.\n"
          ],
          "name": "stderr"
        },
        {
          "output_type": "stream",
          "text": [
            "\rBatch=5    Epoch=0    Count=20   Loss=0.065  Time=2.322 "
          ],
          "name": "stdout"
        },
        {
          "output_type": "stream",
          "text": [
            "WARNING:root:Lossy conversion from float32 to uint8. Range [0.0, 255.0]. Convert image to uint8 prior to saving to suppress this warning.\n"
          ],
          "name": "stderr"
        },
        {
          "output_type": "stream",
          "text": [
            "\rBatch=5    Epoch=0    Count=21   Loss=0.065  Time=2.371 "
          ],
          "name": "stdout"
        },
        {
          "output_type": "stream",
          "text": [
            "WARNING:root:Lossy conversion from float32 to uint8. Range [0.0, 255.0]. Convert image to uint8 prior to saving to suppress this warning.\n"
          ],
          "name": "stderr"
        },
        {
          "output_type": "stream",
          "text": [
            "\rBatch=5    Epoch=0    Count=22   Loss=0.066  Time=2.465 "
          ],
          "name": "stdout"
        },
        {
          "output_type": "stream",
          "text": [
            "WARNING:root:Lossy conversion from float32 to uint8. Range [0.0, 255.0]. Convert image to uint8 prior to saving to suppress this warning.\n"
          ],
          "name": "stderr"
        },
        {
          "output_type": "stream",
          "text": [
            "\rBatch=5    Epoch=0    Count=23   Loss=0.066  Time=2.439 "
          ],
          "name": "stdout"
        },
        {
          "output_type": "stream",
          "text": [
            "WARNING:root:Lossy conversion from float32 to uint8. Range [0.0, 203.0213165283203]. Convert image to uint8 prior to saving to suppress this warning.\n"
          ],
          "name": "stderr"
        },
        {
          "output_type": "stream",
          "text": [
            "Batch=5    Epoch=10   Count=24   Loss=0.065  Time=0.133 "
          ],
          "name": "stdout"
        }
      ]
    },
    {
      "cell_type": "markdown",
      "metadata": {
        "id": "Pnm08UPFVl3a",
        "colab_type": "text"
      },
      "source": [
        "Now that the model is built into result_Sony, we can test it."
      ]
    },
    {
      "cell_type": "code",
      "metadata": {
        "id": "h6-slmdJLGyG",
        "colab_type": "code",
        "colab": {
          "base_uri": "https://localhost:8080/",
          "height": 1805
        },
        "outputId": "a9f54738-9d1b-4cd8-ce52-58292942f6f0"
      },
      "source": [
        "#\n",
        "# test_Sony.py\n",
        "#\n",
        "\n",
        "from __future__ import division\n",
        "import os, scipy.io\n",
        "import tensorflow as tf\n",
        "import tensorflow.contrib.slim as slim\n",
        "import numpy as np\n",
        "import imageio\n",
        "import rawpy\n",
        "import glob\n",
        "\n",
        "input_dir = './dataset/Sony/short/'\n",
        "gt_dir = './dataset/Sony/long/'\n",
        "checkpoint_dir = './result_Sony/'\n",
        "result_dir = './result_Sony/'\n",
        "\n",
        "# get test IDs\n",
        "test_fns = glob.glob(gt_dir + '/1*.ARW')\n",
        "test_ids = [int(os.path.basename(test_fn)[0:5]) for test_fn in test_fns]\n",
        "\n",
        "DEBUG = 0\n",
        "if DEBUG == 1:\n",
        "    save_freq = 2\n",
        "    test_ids = test_ids[0:5]\n",
        "\n",
        "\n",
        "def lrelu(x):\n",
        "    return tf.maximum(x * 0.2, x)\n",
        "\n",
        "\n",
        "def upsample_and_concat(x1, x2, output_channels, in_channels):\n",
        "    pool_size = 2\n",
        "    deconv_filter = tf.Variable(tf.truncated_normal([pool_size, pool_size, output_channels, in_channels], stddev=0.02))\n",
        "    deconv = tf.nn.conv2d_transpose(x1, deconv_filter, tf.shape(x2), strides=[1, pool_size, pool_size, 1])\n",
        "\n",
        "    deconv_output = tf.concat([deconv, x2], 3)\n",
        "    deconv_output.set_shape([None, None, None, output_channels * 2])\n",
        "\n",
        "    return deconv_output\n",
        "\n",
        "\n",
        "def network(input):\n",
        "    conv1 = slim.conv2d(input, 32, [3, 3], rate=1, activation_fn=lrelu, scope='g_conv1_1')\n",
        "    conv1 = slim.conv2d(conv1, 32, [3, 3], rate=1, activation_fn=lrelu, scope='g_conv1_2')\n",
        "    pool1 = slim.max_pool2d(conv1, [2, 2], padding='SAME')\n",
        "\n",
        "    conv2 = slim.conv2d(pool1, 64, [3, 3], rate=1, activation_fn=lrelu, scope='g_conv2_1')\n",
        "    conv2 = slim.conv2d(conv2, 64, [3, 3], rate=1, activation_fn=lrelu, scope='g_conv2_2')\n",
        "    pool2 = slim.max_pool2d(conv2, [2, 2], padding='SAME')\n",
        "\n",
        "    conv3 = slim.conv2d(pool2, 128, [3, 3], rate=1, activation_fn=lrelu, scope='g_conv3_1')\n",
        "    conv3 = slim.conv2d(conv3, 128, [3, 3], rate=1, activation_fn=lrelu, scope='g_conv3_2')\n",
        "    pool3 = slim.max_pool2d(conv3, [2, 2], padding='SAME')\n",
        "\n",
        "    conv4 = slim.conv2d(pool3, 256, [3, 3], rate=1, activation_fn=lrelu, scope='g_conv4_1')\n",
        "    conv4 = slim.conv2d(conv4, 256, [3, 3], rate=1, activation_fn=lrelu, scope='g_conv4_2')\n",
        "    pool4 = slim.max_pool2d(conv4, [2, 2], padding='SAME')\n",
        "\n",
        "    conv5 = slim.conv2d(pool4, 512, [3, 3], rate=1, activation_fn=lrelu, scope='g_conv5_1')\n",
        "    conv5 = slim.conv2d(conv5, 512, [3, 3], rate=1, activation_fn=lrelu, scope='g_conv5_2')\n",
        "\n",
        "    up6 = upsample_and_concat(conv5, conv4, 256, 512)\n",
        "    conv6 = slim.conv2d(up6, 256, [3, 3], rate=1, activation_fn=lrelu, scope='g_conv6_1')\n",
        "    conv6 = slim.conv2d(conv6, 256, [3, 3], rate=1, activation_fn=lrelu, scope='g_conv6_2')\n",
        "\n",
        "    up7 = upsample_and_concat(conv6, conv3, 128, 256)\n",
        "    conv7 = slim.conv2d(up7, 128, [3, 3], rate=1, activation_fn=lrelu, scope='g_conv7_1')\n",
        "    conv7 = slim.conv2d(conv7, 128, [3, 3], rate=1, activation_fn=lrelu, scope='g_conv7_2')\n",
        "\n",
        "    up8 = upsample_and_concat(conv7, conv2, 64, 128)\n",
        "    conv8 = slim.conv2d(up8, 64, [3, 3], rate=1, activation_fn=lrelu, scope='g_conv8_1')\n",
        "    conv8 = slim.conv2d(conv8, 64, [3, 3], rate=1, activation_fn=lrelu, scope='g_conv8_2')\n",
        "\n",
        "    up9 = upsample_and_concat(conv8, conv1, 32, 64)\n",
        "    conv9 = slim.conv2d(up9, 32, [3, 3], rate=1, activation_fn=lrelu, scope='g_conv9_1')\n",
        "    conv9 = slim.conv2d(conv9, 32, [3, 3], rate=1, activation_fn=lrelu, scope='g_conv9_2')\n",
        "\n",
        "    conv10 = slim.conv2d(conv9, 12, [1, 1], rate=1, activation_fn=None, scope='g_conv10')\n",
        "    out = tf.depth_to_space(conv10, 2)\n",
        "    return out\n",
        "\n",
        "\n",
        "def pack_raw(raw):\n",
        "    # pack Bayer image to 4 channels\n",
        "    im = raw.raw_image_visible.astype(np.float32)\n",
        "    im = np.maximum(im - 512, 0) / (16383 - 512)  # subtract the black level\n",
        "\n",
        "    im = np.expand_dims(im, axis=2)\n",
        "    img_shape = im.shape\n",
        "    H = img_shape[0]\n",
        "    W = img_shape[1]\n",
        "\n",
        "    out = np.concatenate((im[0:H:2, 0:W:2, :],\n",
        "                          im[0:H:2, 1:W:2, :],\n",
        "                          im[1:H:2, 1:W:2, :],\n",
        "                          im[1:H:2, 0:W:2, :]), axis=2)\n",
        "    return out\n",
        "\n",
        "tf.reset_default_graph()\n",
        "sess = tf.Session()\n",
        "in_image = tf.placeholder(tf.float32, [None, None, None, 4])\n",
        "gt_image = tf.placeholder(tf.float32, [None, None, None, 3])\n",
        "out_image = network(in_image)\n",
        "\n",
        "saver = tf.train.Saver()\n",
        "sess.run(tf.global_variables_initializer())\n",
        "ckpt = tf.train.get_checkpoint_state(checkpoint_dir)\n",
        "if ckpt:\n",
        "    print('loaded ' + ckpt.model_checkpoint_path)\n",
        "    saver.restore(sess, ckpt.model_checkpoint_path)\n",
        "\n",
        "if not os.path.isdir(result_dir + 'final/'):\n",
        "    os.makedirs(result_dir + 'final/')\n",
        "\n",
        "for test_id in test_ids:\n",
        "    # test the first image in each sequence\n",
        "    in_files = glob.glob(input_dir + '%05d_00*.ARW' % test_id)\n",
        "    for k in range(len(in_files)):\n",
        "        in_path = in_files[k]\n",
        "        in_fn = os.path.basename(in_path)\n",
        "        print(in_fn)\n",
        "        gt_files = glob.glob(gt_dir + '%05d_00*.ARW' % test_id)\n",
        "        gt_path = gt_files[0]\n",
        "        gt_fn = os.path.basename(gt_path)\n",
        "        in_exposure = float(in_fn[9:-5])\n",
        "        gt_exposure = float(gt_fn[9:-5])\n",
        "        ratio = min(gt_exposure / in_exposure, 300)\n",
        "\n",
        "        raw = rawpy.imread(in_path)\n",
        "        input_full = np.expand_dims(pack_raw(raw), axis=0) * ratio\n",
        "\n",
        "        im = raw.postprocess(use_camera_wb=True, half_size=False, no_auto_bright=True, output_bps=16)\n",
        "        # scale_full = np.expand_dims(np.float32(im/65535.0),axis = 0)*ratio\n",
        "        scale_full = np.expand_dims(np.float32(im / 65535.0), axis=0)\n",
        "\n",
        "        gt_raw = rawpy.imread(gt_path)\n",
        "        im = gt_raw.postprocess(use_camera_wb=True, half_size=False, no_auto_bright=True, output_bps=16)\n",
        "        gt_full = np.expand_dims(np.float32(im / 65535.0), axis=0)\n",
        "\n",
        "        input_full = np.minimum(input_full, 1.0)\n",
        "\n",
        "        output = sess.run(out_image, feed_dict={in_image: input_full})\n",
        "        output = np.minimum(np.maximum(output, 0), 1)\n",
        "\n",
        "        output = output[0, :, :, :]\n",
        "        gt_full = gt_full[0, :, :, :]\n",
        "        scale_full = scale_full[0, :, :, :]\n",
        "        scale_full = scale_full * np.mean(gt_full) / np.mean(\n",
        "            scale_full)  # scale the low-light image to the same mean of the groundtruth\n",
        "        \n",
        "        output *= 255\n",
        "        output = scipy.misc.bytescale(output, cmin=0, cmax=255, high=255, low=0)\n",
        "        scale_full *= 255\n",
        "        scale_full = scipy.misc.bytescale(scale_full, cmin=0, cmax=255, high=255, low=0)\n",
        "        gt_full *= 255\n",
        "        gt_full = scipy.misc.bytescale(gt_full, cmin=0, cmax=255, high=255, low=0)\n",
        "        \n",
        "        imageio.imwrite(result_dir + 'final/%5d_00_%d_out.png' % (test_id, ratio), np.array(output, dtype=np.uint8))\n",
        "        imageio.imwrite(result_dir + 'final/%5d_00_%d_scale.png' % (test_id, ratio), np.array(scale_full, dtype=np.uint8))\n",
        "        imageio.imwrite(result_dir + 'final/%5d_00_%d_gt.png' % (test_id, ratio), np.array(gt_full, dtype=np.uint8))\n"
      ],
      "execution_count": 14,
      "outputs": [
        {
          "output_type": "stream",
          "text": [
            "loaded ./result_Sony/model.ckpt\n",
            "WARNING:tensorflow:From /usr/local/lib/python3.6/dist-packages/tensorflow/python/training/saver.py:1266: checkpoint_exists (from tensorflow.python.training.checkpoint_management) is deprecated and will be removed in a future version.\n",
            "Instructions for updating:\n",
            "Use standard file APIs to check for files with this prefix.\n"
          ],
          "name": "stdout"
        },
        {
          "output_type": "stream",
          "text": [
            "WARNING:tensorflow:From /usr/local/lib/python3.6/dist-packages/tensorflow/python/training/saver.py:1266: checkpoint_exists (from tensorflow.python.training.checkpoint_management) is deprecated and will be removed in a future version.\n",
            "Instructions for updating:\n",
            "Use standard file APIs to check for files with this prefix.\n"
          ],
          "name": "stderr"
        },
        {
          "output_type": "stream",
          "text": [
            "INFO:tensorflow:Restoring parameters from ./result_Sony/model.ckpt\n"
          ],
          "name": "stdout"
        },
        {
          "output_type": "stream",
          "text": [
            "INFO:tensorflow:Restoring parameters from ./result_Sony/model.ckpt\n"
          ],
          "name": "stderr"
        },
        {
          "output_type": "stream",
          "text": [
            "10077_00_0.1s.ARW\n",
            "10217_00_0.033s.ARW\n",
            "10217_00_0.04s.ARW\n",
            "10217_00_0.1s.ARW\n",
            "10034_00_0.04s.ARW\n",
            "10034_00_0.1s.ARW\n",
            "10163_00_0.1s.ARW\n",
            "10170_00_0.1s.ARW\n",
            "10185_00_0.04s.ARW\n",
            "10185_00_0.1s.ARW\n",
            "10185_00_0.033s.ARW\n",
            "10192_00_0.1s.ARW\n",
            "10192_00_0.04s.ARW\n",
            "10192_00_0.033s.ARW\n",
            "10030_00_0.04s.ARW\n",
            "10030_00_0.1s.ARW\n",
            "10193_00_0.1s.ARW\n",
            "10193_00_0.04s.ARW\n",
            "10193_00_0.033s.ARW\n",
            "10003_00_0.04s.ARW\n",
            "10003_00_0.1s.ARW\n",
            "10093_00_0.1s.ARW\n",
            "10069_00_0.04s.ARW\n",
            "10069_00_0.1s.ARW\n",
            "10191_00_0.033s.ARW\n",
            "10191_00_0.1s.ARW\n",
            "10191_00_0.04s.ARW\n",
            "10213_00_0.04s.ARW\n",
            "10213_00_0.1s.ARW\n",
            "10213_00_0.033s.ARW\n",
            "10032_00_0.04s.ARW\n",
            "10032_00_0.1s.ARW\n",
            "10106_00_0.1s.ARW\n",
            "10040_00_0.1s.ARW\n",
            "10040_00_0.04s.ARW\n",
            "10068_00_0.04s.ARW\n",
            "10068_00_0.1s.ARW\n",
            "10011_00_0.04s.ARW\n",
            "10011_00_0.1s.ARW\n",
            "10035_00_0.1s.ARW\n",
            "10035_00_0.04s.ARW\n",
            "10140_00_0.1s.ARW\n",
            "10187_00_0.1s.ARW\n",
            "10187_00_0.04s.ARW\n",
            "10187_00_0.033s.ARW\n",
            "10105_00_0.1s.ARW\n",
            "10172_00_0.1s.ARW\n",
            "10101_00_0.1s.ARW\n",
            "10139_00_0.1s.ARW\n",
            "10198_00_0.04s.ARW\n",
            "10198_00_0.1s.ARW\n",
            "10198_00_0.033s.ARW\n",
            "10176_00_0.1s.ARW\n",
            "10087_00_0.1s.ARW\n",
            "10054_00_0.1s.ARW\n",
            "10054_00_0.04s.ARW\n",
            "10022_00_0.04s.ARW\n",
            "10022_00_0.1s.ARW\n",
            "10006_00_0.1s.ARW\n",
            "10006_00_0.04s.ARW\n",
            "10116_00_0.1s.ARW\n",
            "10055_00_0.1s.ARW\n",
            "10055_00_0.04s.ARW\n",
            "10126_00_0.1s.ARW\n",
            "10103_00_0.1s.ARW\n",
            "10199_00_0.1s.ARW\n",
            "10199_00_0.033s.ARW\n",
            "10199_00_0.04s.ARW\n",
            "10125_00_0.1s.ARW\n",
            "10016_00_0.1s.ARW\n",
            "10016_00_0.04s.ARW\n",
            "10045_00_0.1s.ARW\n",
            "10045_00_0.04s.ARW\n",
            "10111_00_0.1s.ARW\n",
            "10162_00_0.1s.ARW\n",
            "10227_00_0.033s.ARW\n",
            "10227_00_0.04s.ARW\n",
            "10227_00_0.1s.ARW\n",
            "10203_00_0.033s.ARW\n",
            "10203_00_0.04s.ARW\n",
            "10203_00_0.1s.ARW\n",
            "10167_00_0.1s.ARW\n",
            "10178_00_0.033s.ARW\n",
            "10178_00_0.1s.ARW\n",
            "10178_00_0.04s.ARW\n",
            "10226_00_0.04s.ARW\n",
            "10226_00_0.1s.ARW\n",
            "10226_00_0.033s.ARW\n",
            "10074_00_0.1s.ARW\n",
            "10082_00_0.1s.ARW\n",
            "10228_00_0.033s.ARW\n",
            "10228_00_0.1s.ARW\n",
            "10228_00_0.04s.ARW\n"
          ],
          "name": "stdout"
        }
      ]
    },
    {
      "cell_type": "markdown",
      "metadata": {
        "id": "xOFZ0RGHU-Cf",
        "colab_type": "text"
      },
      "source": [
        "The tests have run and output images into result_Sony/final as well as the model into result_Sony. Lets zip and download a few to check are results. Fair warning, the file download is buggy and will not play nice if you are not using chrome. \n",
        "\n",
        "If you are having issues, restart the runtime and refresh the page."
      ]
    },
    {
      "cell_type": "code",
      "metadata": {
        "id": "QvjcsE-C57mh",
        "colab_type": "code",
        "colab": {
          "base_uri": "https://localhost:8080/",
          "height": 277
        },
        "outputId": "54e6e35a-846b-484a-eb3b-ffae960bd4de"
      },
      "source": [
        "!zip model.zip result_Sony/*\n",
        "!zip results_10191.zip result_Sony/final/10191_00_3*\n",
        "!zip results_10187.zip result_Sony/final/10187_00_3*\n",
        "!zip results_00001.zip result_Sony/final/10016_00_3*"
      ],
      "execution_count": 15,
      "outputs": [
        {
          "output_type": "stream",
          "text": [
            "  adding: result_Sony/0000/ (stored 0%)\n",
            "  adding: result_Sony/checkpoint (deflated 42%)\n",
            "  adding: result_Sony/final/ (stored 0%)\n",
            "  adding: result_Sony/model.ckpt.data-00000-of-00001 (deflated 7%)\n",
            "  adding: result_Sony/model.ckpt.index (deflated 63%)\n",
            "  adding: result_Sony/model.ckpt.meta (deflated 91%)\n",
            "  adding: result_Sony/final/10191_00_300_gt.png (deflated 0%)\n",
            "  adding: result_Sony/final/10191_00_300_out.png (deflated 0%)\n",
            "  adding: result_Sony/final/10191_00_300_scale.png (deflated 0%)\n",
            "  adding: result_Sony/final/10187_00_300_gt.png (deflated 0%)\n",
            "  adding: result_Sony/final/10187_00_300_out.png (deflated 0%)\n",
            "  adding: result_Sony/final/10187_00_300_scale.png (deflated 0%)\n",
            "\tzip warning: name not matched: result_Sony/final/10016_00_3*\n",
            "\n",
            "zip error: Nothing to do! (results_00001.zip)\n"
          ],
          "name": "stdout"
        }
      ]
    },
    {
      "cell_type": "code",
      "metadata": {
        "id": "a92uNzShm_nn",
        "colab_type": "code",
        "colab": {
          "base_uri": "https://localhost:8080/",
          "height": 225
        },
        "outputId": "993a5416-2fb1-4e87-ec6a-6cb63c2b3e74"
      },
      "source": [
        "!ls -al dataset/Sony/short/00001_0*"
      ],
      "execution_count": 24,
      "outputs": [
        {
          "output_type": "stream",
          "text": [
            "-rw-r--r-- 1 root root 24707072 Jun  3 02:47 dataset/Sony/short/00001_00_0.04s.ARW\n",
            "-rw-r--r-- 1 root root 24772608 Jun  3 02:47 dataset/Sony/short/00001_00_0.1s.ARW\n",
            "-rw-r--r-- 1 root root 24707072 Jun  3 02:47 dataset/Sony/short/00001_01_0.04s.ARW\n",
            "-rw-r--r-- 1 root root 24772608 Jun  3 02:47 dataset/Sony/short/00001_01_0.1s.ARW\n",
            "-rw-r--r-- 1 root root 24772608 Jun  3 02:47 dataset/Sony/short/00001_02_0.1s.ARW\n",
            "-rw-r--r-- 1 root root 24772608 Jun  3 02:47 dataset/Sony/short/00001_03_0.1s.ARW\n",
            "-rw-r--r-- 1 root root 24772608 Jun  3 02:47 dataset/Sony/short/00001_04_0.1s.ARW\n",
            "-rw-r--r-- 1 root root 24772608 Jun  3 02:47 dataset/Sony/short/00001_05_0.1s.ARW\n",
            "-rw-r--r-- 1 root root 24772608 Jun  3 02:47 dataset/Sony/short/00001_06_0.1s.ARW\n",
            "-rw-r--r-- 1 root root 24772608 Jun  3 02:47 dataset/Sony/short/00001_07_0.1s.ARW\n",
            "-rw-r--r-- 1 root root 24772608 Jun  3 02:47 dataset/Sony/short/00001_08_0.1s.ARW\n",
            "-rw-r--r-- 1 root root 24772608 Jun  3 02:47 dataset/Sony/short/00001_09_0.1s.ARW\n"
          ],
          "name": "stdout"
        }
      ]
    },
    {
      "cell_type": "code",
      "metadata": {
        "id": "FjpFBrBCU-Ll",
        "colab_type": "code",
        "colab": {}
      },
      "source": [
        "from google.colab import files\n",
        "\n",
        "files.download('model.zip')"
      ],
      "execution_count": 0,
      "outputs": []
    },
    {
      "cell_type": "code",
      "metadata": {
        "colab_type": "code",
        "id": "wuu9-74JyuNX",
        "colab": {}
      },
      "source": [
        "files.download('results_10191.zip')"
      ],
      "execution_count": 0,
      "outputs": []
    },
    {
      "cell_type": "code",
      "metadata": {
        "id": "0gl0lweYq9-3",
        "colab_type": "code",
        "colab": {}
      },
      "source": [
        "files.download('results_10187.zip')"
      ],
      "execution_count": 0,
      "outputs": []
    },
    {
      "cell_type": "code",
      "metadata": {
        "id": "m9hcEvC4rEea",
        "colab_type": "code",
        "colab": {}
      },
      "source": [
        "files.download('results_10016.zip')"
      ],
      "execution_count": 0,
      "outputs": []
    },
    {
      "cell_type": "code",
      "metadata": {
        "id": "bT0TUqJ6nKl2",
        "colab_type": "code",
        "colab": {}
      },
      "source": [
        "files.download('dataset/Sony/short/00001_01_0.04s.ARW')"
      ],
      "execution_count": 0,
      "outputs": []
    }
  ]
}